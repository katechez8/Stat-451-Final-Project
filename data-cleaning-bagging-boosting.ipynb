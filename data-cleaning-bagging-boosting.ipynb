{
 "cells": [
  {
   "cell_type": "markdown",
   "id": "865109d0-9484-4244-9d87-0dcd6ebfa9c0",
   "metadata": {},
   "source": [
    "Cleaning Data for Analysis "
   ]
  },
  {
   "cell_type": "code",
   "execution_count": 30,
   "id": "05cf245f-705d-44bc-9155-21e6dbb623fe",
   "metadata": {},
   "outputs": [],
   "source": [
    "#import statements\n",
    "import numpy as np\n",
    "import pandas as pd\n",
    "from sklearn.model_selection import train_test_split\n",
    "from sklearn.ensemble import RandomForestRegressor\n",
    "from sklearn.tree import DecisionTreeRegressor\n",
    "from sklearn.ensemble import BaggingRegressor\n",
    "from sklearn.ensemble import AdaBoostRegressor\n",
    "import matplotlib.pyplot as plt"
   ]
  },
  {
   "cell_type": "markdown",
   "id": "3c430428-4efc-4c0d-a2da-720b65d1f2d7",
   "metadata": {},
   "source": [
    "Because not all new construction homes were sold, and among those that were sold, not all reported the sale price. Those cases simply list sale price (SLPR) as 0. Because for our analysis these examples are not of interest to us they will be removed. Additionally there are two variables that indicate the sale price of the home: SLPR and FSLPR. FSLPR (Final Sale Price) is only filled in if the SLPR was changed before the final closing date. Because we would like the most accurate information FSLPR and SLPR will be combined into FSLPR filling in the missing information of FSLPR with SLPR."
   ]
  },
  {
   "cell_type": "code",
   "execution_count": 5,
   "id": "d84535a4-3641-4468-8daf-21fc62fe9e6b",
   "metadata": {},
   "outputs": [],
   "source": [
    "## Reading and cleaning data\n",
    "raw_data = pd.read_csv('soc19.csv')\n",
    "\n",
    "## Remove rows where sale price was not reported or house was not sold \n",
    "raw_data = raw_data[(raw_data['SLPR'] != 0) | (raw_data['FSLPR'] != 0)]\n",
    "\n",
    "## If FSLPR is zero, replace this value with SLPR\n",
    "raw_data.FSLPR[raw_data.FSLPR == 0] = raw_data.SLPR\n",
    " \n",
    "## clean data export\n",
    "cleaned_data = raw_data \n",
    "cleaned_data.to_csv('cleaned_data.csv', index=False)\n",
    "\n",
    "#create train and test set\n",
    "x = cleaned_data.loc[:, cleaned_data.columns != 'FSLPR']\n",
    "y = cleaned_data.loc[:, cleaned_data.columns == 'FSLPR']\n",
    "xTrain, xTest, yTrain, yTest = train_test_split(x, y, test_size = 0.2, random_state = 1)"
   ]
  },
  {
   "cell_type": "markdown",
   "id": "1f842be2",
   "metadata": {},
   "source": [
    "Model Implementation"
   ]
  },
  {
   "cell_type": "code",
   "execution_count": 5,
   "id": "fcbeb095",
   "metadata": {},
   "outputs": [
    {
     "data": {
      "text/plain": [
       "RandomForestRegressor()"
      ]
     },
     "execution_count": 5,
     "metadata": {},
     "output_type": "execute_result"
    }
   ],
   "source": [
    "#train random forest model\n",
    "rForest = RandomForestRegressor()\n",
    "rForest.fit(xTrain, yTrain.values.ravel())"
   ]
  },
  {
   "cell_type": "code",
   "execution_count": 6,
   "id": "fb6c41c7",
   "metadata": {},
   "outputs": [
    {
     "name": "stdout",
     "output_type": "stream",
     "text": [
      "Coefficient of determination on test set: 1.0\n"
     ]
    }
   ],
   "source": [
    "#evaluate model in another cell so don't need to refit model every time\n",
    "yhat = rForest.predict(xTest)\n",
    "score = rForest.score(xTest, yhat)\n",
    "print('Coefficient of determination on test set:', score) "
   ]
  },
  {
   "cell_type": "code",
   "execution_count": 19,
   "id": "e3f0014f",
   "metadata": {},
   "outputs": [
    {
     "data": {
      "text/plain": [
       "DecisionTreeRegressor()"
      ]
     },
     "execution_count": 19,
     "metadata": {},
     "output_type": "execute_result"
    }
   ],
   "source": [
    "#train decision tree\n",
    "tree = DecisionTreeRegressor()\n",
    "tree.fit(xTrain, yTrain)"
   ]
  },
  {
   "cell_type": "code",
   "execution_count": 16,
   "id": "d5c24d9e",
   "metadata": {
    "scrolled": true
   },
   "outputs": [
    {
     "name": "stdout",
     "output_type": "stream",
     "text": [
      "0.9846936719628754\n"
     ]
    }
   ],
   "source": [
    "#assess tree\n",
    "yhat = tree.predict(xTest)\n",
    "score = tree.score(xTest, yTest)\n",
    "print('coefficient of determination on test set:', np.round(score,2))"
   ]
  },
  {
   "cell_type": "code",
   "execution_count": 8,
   "id": "211b880e",
   "metadata": {},
   "outputs": [
    {
     "data": {
      "text/plain": [
       "BaggingRegressor()"
      ]
     },
     "execution_count": 8,
     "metadata": {},
     "output_type": "execute_result"
    }
   ],
   "source": [
    "#train bagging model\n",
    "bag = BaggingRegressor()\n",
    "bag.fit(xTrain, yTrain.values.ravel())"
   ]
  },
  {
   "cell_type": "code",
   "execution_count": 41,
   "id": "c7507114",
   "metadata": {},
   "outputs": [
    {
     "name": "stdout",
     "output_type": "stream",
     "text": [
      "coefficient of determination on test set: 0.9892534357964312\n"
     ]
    }
   ],
   "source": [
    "#evaluate bagging model\n",
    "y_predict = bag.predict(xTest)\n",
    "score2 = bag.score(xTest, yTest)\n",
    "print('coefficient of determination on test set:', score2)"
   ]
  },
  {
   "cell_type": "code",
   "execution_count": 46,
   "id": "3933bf03",
   "metadata": {
    "scrolled": true
   },
   "outputs": [
    {
     "data": {
      "text/plain": [
       "AdaBoostRegressor(base_estimator=DecisionTreeRegressor())"
      ]
     },
     "execution_count": 46,
     "metadata": {},
     "output_type": "execute_result"
    }
   ],
   "source": [
    "boost = AdaBoostRegressor(base_estimator=tree)\n",
    "boost.fit(xTrain, yTrain.values.ravel())"
   ]
  },
  {
   "cell_type": "code",
   "execution_count": 47,
   "id": "2e74aafd",
   "metadata": {},
   "outputs": [
    {
     "name": "stdout",
     "output_type": "stream",
     "text": [
      "coefficient of determination on test set: 0.9906045206809465\n"
     ]
    }
   ],
   "source": [
    "y_predict = boost.predict(xTest)\n",
    "score2 = boost.score(xTest, yTest)\n",
    "print ('coefficient of determination on test set:', score2)"
   ]
  }
 ],
 "metadata": {
  "interpreter": {
   "hash": "1a7d1808110443b3cdaed7c6de853f824ed46249aa2d1a3ebcec599b392942a3"
  },
  "kernelspec": {
   "display_name": "Python 3",
   "language": "python",
   "name": "python3"
  },
  "language_info": {
   "codemirror_mode": {
    "name": "ipython",
    "version": 3
   },
   "file_extension": ".py",
   "mimetype": "text/x-python",
   "name": "python",
   "nbconvert_exporter": "python",
   "pygments_lexer": "ipython3",
   "version": "3.8.8"
  }
 },
 "nbformat": 4,
 "nbformat_minor": 5
}
