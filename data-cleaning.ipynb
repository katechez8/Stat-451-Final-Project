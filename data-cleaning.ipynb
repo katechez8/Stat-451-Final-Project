{
 "cells": [
  {
   "cell_type": "markdown",
   "id": "865109d0-9484-4244-9d87-0dcd6ebfa9c0",
   "metadata": {},
   "source": [
    "Cleaning Data for Analysis "
   ]
  },
  {
   "cell_type": "code",
   "execution_count": 68,
   "id": "05cf245f-705d-44bc-9155-21e6dbb623fe",
   "metadata": {},
   "outputs": [],
   "source": [
    "#import statements\n",
    "import numpy as np\n",
    "import pandas as pd\n",
    "from matplotlib.pyplot import subplots\n",
    "import matplotlib.pyplot as plt\n",
    "from sklearn.model_selection import train_test_split\n",
    "from sklearn.model_selection import GridSearchCV\n",
    "from sklearn.linear_model import LinearRegression\n",
    "from sklearn.ensemble import RandomForestRegressor\n",
    "from sklearn.tree import DecisionTreeRegressor\n",
    "from sklearn.ensemble import GradientBoostingRegressor\n",
    "from sklearn.ensemble import StackingRegressor\n",
    "from sklearn.ensemble import BaggingRegressor\n",
    "from sklearn.metrics import mean_squared_error"
   ]
  },
  {
   "cell_type": "code",
   "execution_count": 69,
   "id": "21930e3c",
   "metadata": {},
   "outputs": [],
   "source": [
    "#function definitions\n",
    "def PlotScatter(yhat):\n",
    "    fig, ax = plt.subplots()\n",
    "    ax.scatter(yhat, yTest)\n",
    "    ax.set_xlabel('Predicted Sale Price (in Millions)')\n",
    "    ax.set_ylabel('Actual Sale Price (in Millions)')\n",
    "    return ax"
   ]
  },
  {
   "cell_type": "markdown",
   "id": "3c430428-4efc-4c0d-a2da-720b65d1f2d7",
   "metadata": {},
   "source": [
    "Because not all new construction homes were sold, and among those that were sold, not all reported the sale price. Those cases simply list sale price (SLPR) as 0. Because for our analysis these examples are not of interest to us they will be removed. Additionally there are two variables that indicate the sale price of the home: SLPR and FSLPR. FSLPR (Final Sale Price) is only filled in if the SLPR was changed before the final closing date. Because we would like the most accurate information FSLPR and SLPR will be combined into FSLPR filling in the missing information of FSLPR with SLPR."
   ]
  },
  {
   "cell_type": "code",
   "execution_count": 120,
   "id": "d84535a4-3641-4468-8daf-21fc62fe9e6b",
   "metadata": {},
   "outputs": [
    {
     "name": "stdout",
     "output_type": "stream",
     "text": [
      "(24810, 61)\n",
      "(13257, 41)\n"
     ]
    }
   ],
   "source": [
    "## Reading and cleaning data\n",
    "raw_data = pd.read_csv('soc19.csv')\n",
    "print(raw_data.shape)\n",
    "\n",
    "## Remove rows where sale price was not reported or house was not sold \n",
    "raw_data = raw_data[(raw_data['SLPR'] != 0) | (raw_data['FSLPR'] != 0)]\n",
    "\n",
    "#if the final square root is zero replace with mean\n",
    "raw_data[raw_data.FSQFS == 0] = np.mean(raw_data.FSQFS)\n",
    "\n",
    "## If FSLPR is zero, replace this value with SLPR\n",
    "raw_data.FSLPR[raw_data.FSLPR == 0] = raw_data.SLPR\n",
    "\n",
    "## Features to remove \n",
    "remove_features = [\"SLPR\", \"FCONPR\", \"SALE\", \"COMP\", \"AUTH\", \"ID\", \"STRT\", \"PVALU\", \"FNSQ_F\", \"CONPR\", \"FINC\",\n",
    "               \"SLPR_F\", \"FSLPR_F\", \"FCONPR_F\", \"LOTV_F\", \"SQFS_F\", \"FSQFS_F\", \"PVALU_F\", \"AREA_F\", \"CONPR_F\"]\n",
    "\n",
    "## Removing Features \n",
    "raw_data = raw_data.drop(columns = remove_features)\n",
    " \n",
    "## clean data export\n",
    "cleaned_data = raw_data \n",
    "cleaned_data.to_csv('cleaned_data.csv', index=False)\n",
    "print(cleaned_data.shape)\n",
    "\n",
    "## Creating a data dictionary to specify data types \n",
    "feature_types = {\"ACS\": 'category', \"AGER\": 'category', \"ASSOC\": 'category', \"BASE\": 'category',\n",
    "                \"CAT\": 'category', \"CLOS\": 'category', \"CON\": 'category', \"DECK\": 'category',\n",
    "                \"DET\": 'category', \"DIV\": 'category', \"FNBS\": 'category', \"FOYER\": 'category',\n",
    "                \"FRAME\": 'category', \"GAR\": 'category', \"HEAT\": 'category', \"HEAT2\": 'category',\n",
    "                \"LNDR\": 'category', \"MFGS\": 'category', \"PATI\": 'category', \"PRCH\": 'category',\n",
    "                \"SEWER\": 'category', \"STOR\": 'category', \"WAL1\": 'category', \"WALS\": 'category',\n",
    "                \"WATER\": 'category', \"BEDR\": 'category', \"FPLS\": 'category', \"FULB\": 'category',\n",
    "                \"HAFB\": 'category', \"WEIGHT\": int, \"FUEL\": 'category', \"FUEL2\": 'category',\n",
    "                \"FSLPR\": np.float64, \"SQFS\": np.float64, \"FSQFS\": np.float64, \"LOTV\": np.float64,\n",
    "                \"FFNSQ\": np.float64, \"AREA\": np.float64}\n",
    "\n",
    "## Changing data types of features\n",
    "cleaned_data = cleaned_data.astype(feature_types)\n",
    "\n",
    "#create train and test set\n",
    "x = cleaned_data.loc[:, cleaned_data.columns != 'FSLPR']\n",
    "y = cleaned_data.loc[:, cleaned_data.columns == 'FSLPR']\n",
    "xTrain, xTest, yTrain, yTest = train_test_split(x, y, test_size = 0.2, random_state = 1)\n",
    "\n",
    "## Create 1d arrays of training and test sample weights \n",
    "training_weights = xTrain.loc[:, xTrain.columns == 'WEIGHT'].values.flatten()\n",
    "testing_weights = xTest.loc[:, xTest.columns == 'WEIGHT'].values.flatten()\n",
    "\n",
    "## Drop sample weights from training and testing data sets so not included in model\n",
    "xTrain = xTrain.drop(columns = 'WEIGHT')\n",
    "xTest = xTest.drop(columns = 'WEIGHT')"
   ]
  },
  {
   "cell_type": "markdown",
   "id": "923293ae",
   "metadata": {},
   "source": [
    "General Data Exploration: Stats stuff not necessarily related to machine learning"
   ]
  },
  {
   "cell_type": "code",
   "execution_count": 71,
   "id": "72dc8a00",
   "metadata": {},
   "outputs": [
    {
     "data": {
      "text/plain": [
       "count    7.774000e+03\n",
       "mean     3.977262e+05\n",
       "std      2.089434e+05\n",
       "min      1.100000e+05\n",
       "25%      2.610000e+05\n",
       "50%      3.470000e+05\n",
       "75%      4.710000e+05\n",
       "max      2.395000e+06\n",
       "Name: FSLPR, dtype: float64"
      ]
     },
     "execution_count": 71,
     "metadata": {},
     "output_type": "execute_result"
    }
   ],
   "source": [
    "#summary statistics\n",
    "cleaned_data['FSLPR'].describe()"
   ]
  },
  {
   "cell_type": "code",
   "execution_count": 72,
   "id": "be2e7495",
   "metadata": {},
   "outputs": [
    {
     "data": {
      "text/plain": [
       "Text(0.5, 1.0, 'Distribution of Final Sale Price')"
      ]
     },
     "execution_count": 72,
     "metadata": {},
     "output_type": "execute_result"
    },
    {
     "data": {
      "image/png": "[encoded data removed]",
      "text/plain": [
       "<Figure size 432x288 with 1 Axes>"
      ]
     },
     "metadata": {
      "needs_background": "light"
     },
     "output_type": "display_data"
    }
   ],
   "source": [
    "FSLPRdensity = cleaned_data['FSLPR'].plot(kind = 'density')\n",
    "FSLPRdensity.set_xlabel('Sale Price (in Millions)')\n",
    "FSLPRdensity.set_xlim(0)\n",
    "FSLPRdensity.set_title('Distribution of Final Sale Price')"
   ]
  },
  {
   "cell_type": "code",
   "execution_count": 73,
   "id": "b9353513",
   "metadata": {},
   "outputs": [
    {
     "data": {
      "image/png": "[encoded data removed]",
      "text/plain": [
       "<Figure size 432x288 with 1 Axes>"
      ]
     },
     "metadata": {
      "needs_background": "light"
     },
     "output_type": "display_data"
    }
   ],
   "source": [
    "FSLPRbox = cleaned_data['FSLPR'].plot(kind = 'box') #lot of high outliers\n",
    "FSLPRbox.set_ylabel('Sale Price (in Millions)')\n",
    "FSLPRbox.xaxis.set_visible(False)"
   ]
  },
  {
   "cell_type": "code",
   "execution_count": 74,
   "id": "cfe6e75d",
   "metadata": {},
   "outputs": [
    {
     "data": {
      "text/plain": [
       "Text(0, 0.5, 'Sale Price')"
      ]
     },
     "execution_count": 74,
     "metadata": {},
     "output_type": "execute_result"
    },
    {
     "data": {
      "image/png": "[encoded data removed]",
      "text/plain": [
       "<Figure size 432x288 with 1 Axes>"
      ]
     },
     "metadata": {
      "needs_background": "light"
     },
     "output_type": "display_data"
    }
   ],
   "source": [
    "#Examining relationship of important predictors with final sale price\n",
    "\n",
    "plt.scatter(cleaned_data['FSQFS'], cleaned_data['FSLPR']) #A lot of square footage recorded as zero in the data set. Likely an error in data entry that shouldve been an NA\n",
    "plt.xlabel('Square Feet')\n",
    "plt.ylabel('Sale Price')"
   ]
  },
  {
   "cell_type": "code",
   "execution_count": 75,
   "id": "3d1792e5",
   "metadata": {},
   "outputs": [
    {
     "data": {
      "image/png": "[encoded data removed]",
      "text/plain": [
       "<Figure size 432x288 with 1 Axes>"
      ]
     },
     "metadata": {
      "needs_background": "light"
     },
     "output_type": "display_data"
    }
   ],
   "source": [
    "box = cleaned_data['FSQFS'].plot(kind = 'box')\n",
    "box.set_ylabel('Square Feet')\n",
    "box.set_title('Distribution of Square Feet of Houses')\n",
    "box.xaxis.set_visible(False)"
   ]
  },
  {
   "cell_type": "code",
   "execution_count": 76,
   "id": "1ae1f4bb",
   "metadata": {},
   "outputs": [
    {
     "name": "stdout",
     "output_type": "stream",
     "text": [
      "number of zeros for square feet: 0\n"
     ]
    },
    {
     "data": {
      "image/png": "[encoded data removed]",
      "text/plain": [
       "<Figure size 432x288 with 1 Axes>"
      ]
     },
     "metadata": {
      "needs_background": "light"
     },
     "output_type": "display_data"
    }
   ],
   "source": [
    " #Lot of zeros in the data set for square feet\n",
    "density = cleaned_data['FSQFS'].plot(kind = 'density')\n",
    "density.set_xlabel('Square Feet')\n",
    "density.set_xlim(0)\n",
    "\n",
    "print('number of zeros for square feet:', len(cleaned_data.FSQFS) - np.count_nonzero(cleaned_data.FSQFS))"
   ]
  },
  {
   "cell_type": "code",
   "execution_count": 77,
   "id": "1e910c9d",
   "metadata": {},
   "outputs": [
    {
     "data": {
      "text/plain": [
       "Text(0.5, 1.0, 'Type of Housing')"
      ]
     },
     "execution_count": 77,
     "metadata": {},
     "output_type": "execute_result"
    },
    {
     "data": {
      "image/png": "[encoded data removed]",
      "text/plain": [
       "<Figure size 432x288 with 1 Axes>"
      ]
     },
     "metadata": {
      "needs_background": "light"
     },
     "output_type": "display_data"
    }
   ],
   "source": [
    "con = cleaned_data['CON'].value_counts()[:-1]\n",
    "levels = ['Non-Condominium', 'Condominium']\n",
    "plt.bar(levels, con)\n",
    "plt.ylabel('Count')\n",
    "plt.title('Type of Housing')"
   ]
  },
  {
   "cell_type": "code",
   "execution_count": 78,
   "id": "7ec646c2",
   "metadata": {},
   "outputs": [
    {
     "data": {
      "text/plain": [
       "Text(0.5, 1.0, 'Distribution of Foundation Type')"
      ]
     },
     "execution_count": 78,
     "metadata": {},
     "output_type": "execute_result"
    },
    {
     "data": {
      "image/png": "[encoded data removed]",
      "text/plain": [
       "<Figure size 432x288 with 1 Axes>"
      ]
     },
     "metadata": {
      "needs_background": "light"
     },
     "output_type": "display_data"
    }
   ],
   "source": [
    "base = cleaned_data['BASE'].value_counts()\n",
    "levels = ['Slab', 'Basement', 'Crawl Space', 'Other', 'NA']\n",
    "plt.bar(levels, base)\n",
    "plt.ylabel('Count')\n",
    "plt.title('Distribution of Foundation Type')"
   ]
  },
  {
   "cell_type": "code",
   "execution_count": null,
   "id": "a8c6a018",
   "metadata": {},
   "outputs": [],
   "source": []
  },
  {
   "cell_type": "markdown",
   "id": "1f842be2",
   "metadata": {},
   "source": [
    "Model Implementation"
   ]
  },
  {
   "cell_type": "code",
   "execution_count": 108,
   "id": "63afb858-429f-453a-8aad-750b5c5a31f9",
   "metadata": {},
   "outputs": [
    {
     "data": {
      "text/plain": [
       "LinearRegression()"
      ]
     },
     "execution_count": 108,
     "metadata": {},
     "output_type": "execute_result"
    }
   ],
   "source": [
    "## Simple linear regression as baseline \n",
    "reg = LinearRegression()\n",
    "reg.fit(xTrain, yTrain,\n",
    "        sample_weight = training_weights)"
   ]
  },
  {
   "cell_type": "code",
   "execution_count": 109,
   "id": "adc27001-c237-42e1-b96d-07c7eff315fe",
   "metadata": {},
   "outputs": [
    {
     "name": "stdout",
     "output_type": "stream",
     "text": [
      "Coefficient of determination on test set: 0.88\n",
      "MSE: 1169981915.1233969\n"
     ]
    }
   ],
   "source": [
    "## Asses linear regression model\n",
    "yHatReg = reg.predict(xTest)\n",
    "score_reg = reg.score(xTest, yTest,\n",
    "                      sample_weight = testing_weights)\n",
    "print('Coefficient of determination on test set:', np.round(score_reg,2))\n",
    "print('MSE:', mean_squared_error(yTest, yHatReg, sample_weight= testing_weights))"
   ]
  },
  {
   "cell_type": "code",
   "execution_count": 110,
   "id": "fcbeb095",
   "metadata": {},
   "outputs": [
    {
     "data": {
      "text/plain": [
       "RandomForestRegressor(n_estimators=500)"
      ]
     },
     "execution_count": 110,
     "metadata": {},
     "output_type": "execute_result"
    }
   ],
   "source": [
    "#Random Forest\n",
    "rForest = RandomForestRegressor(n_estimators=500)\n",
    "\n",
    "# hyper-parameter optimization was run with the following grid search layout\n",
    "# I have commented it out and changed the main regressor to reflect the best parameters to save time\n",
    "\n",
    "# params = {\n",
    "#        'n_estimators': [100, 250, 500, 1000],\n",
    "# }\n",
    "\n",
    "# gridForest = GridSearchCV(estimator = rForest, param_grid = params, n_jobs = -1)\n",
    "# gridForest.fit(xTrain, yTrain.values.ravel(), sample_weight = training_weights)\n",
    "# print('best parameters:', gridForest.best_params_)\n",
    "\n",
    "rForest.fit(xTrain, yTrain.values.ravel(), sample_weight = training_weights)"
   ]
  },
  {
   "cell_type": "code",
   "execution_count": 111,
   "id": "fb6c41c7",
   "metadata": {},
   "outputs": [
    {
     "name": "stdout",
     "output_type": "stream",
     "text": [
      "Coefficient of determination on test set: 0.95\n",
      "MSE: 546611086.7243061\n"
     ]
    }
   ],
   "source": [
    "#evaluate model in another cell so don't need to refit model every time\n",
    "yHatForest = rForest.predict(xTest)\n",
    "scoreForest = rForest.score(xTest, yTest, sample_weight = testing_weights)\n",
    "print('Coefficient of determination on test set:', np.round(scoreForest,2)) \n",
    "print('MSE:', mean_squared_error(yTest, yHatForest, sample_weight = testing_weights))\n",
    "#PlotScatter(yHatForest)"
   ]
  },
  {
   "cell_type": "code",
   "execution_count": 112,
   "id": "e3f0014f",
   "metadata": {},
   "outputs": [
    {
     "data": {
      "text/plain": [
       "DecisionTreeRegressor(criterion='friedman_mse', max_depth=10,\n",
       "                      min_samples_split=10, random_state=1)"
      ]
     },
     "execution_count": 112,
     "metadata": {},
     "output_type": "execute_result"
    }
   ],
   "source": [
    "#train decision tree\n",
    "tree = DecisionTreeRegressor(criterion = 'friedman_mse',\n",
    "                            max_depth = 10,\n",
    "                            min_samples_split = 10,\n",
    "                            random_state = 1)\n",
    "# params = {\n",
    "#        'criterion': ['squared_error', 'friedman_mse'],\n",
    "#        'splitter': ['best', 'random'],\n",
    "#        'max_depth': [5, 10, 15, None],\n",
    "#        'min_samples_split': [2, 5, 10],\n",
    "#        'max_features': ['auto', 'sqrt', 'log2'],\n",
    "#        'random_state': [1]\n",
    "\n",
    "# }\n",
    "\n",
    "# gridTree = GridSearchCV(estimator = tree, param_grid = params, n_jobs = -1)\n",
    "# gridTree.fit(xTrain, yTrain.values.ravel(), sample_weight = training_weights)\n",
    "# print('best parameters:', gridTree.best_params_)\n",
    "# print('best score', gridTree.best_score_)\n",
    "\n",
    "tree.fit(xTrain, yTrain, sample_weight = training_weights)"
   ]
  },
  {
   "cell_type": "code",
   "execution_count": 113,
   "id": "d5c24d9e",
   "metadata": {},
   "outputs": [
    {
     "name": "stdout",
     "output_type": "stream",
     "text": [
      "coefficient of determination on test set: 0.9\n",
      "MSE: 972138158.3594143\n"
     ]
    }
   ],
   "source": [
    "#assess tree\n",
    "yHatTree = tree.predict(xTest)\n",
    "scoreTree = tree.score(xTest, yTest, sample_weight = testing_weights)\n",
    "print('coefficient of determination on test set:', np.round(scoreTree,2))\n",
    "print('MSE:', mean_squared_error(yTest, yHatTree, sample_weight = testing_weights))\n",
    "#PlotScatter(yHatTree)"
   ]
  },
  {
   "cell_type": "markdown",
   "id": "f8a95ecf-a85f-43a5-8cb2-c3d4d816045e",
   "metadata": {},
   "source": [
    "Gradient Boosting Model"
   ]
  },
  {
   "cell_type": "code",
   "execution_count": 114,
   "id": "1356e4a6-5208-40c0-bf6c-6cf0d49cd8a7",
   "metadata": {},
   "outputs": [
    {
     "data": {
      "text/plain": [
       "GradientBoostingRegressor(max_depth=5, n_estimators=500)"
      ]
     },
     "execution_count": 114,
     "metadata": {},
     "output_type": "execute_result"
    }
   ],
   "source": [
    "#Gradient boosting \n",
    "GBR = GradientBoostingRegressor(n_estimators = 500, max_depth = 5)\n",
    "\n",
    "# hyper-parameter optimization was run with the following grid search layout\n",
    "# I have commented it out and changed the main regressor to reflect the best parameters to save time\n",
    "\n",
    "# params = {\n",
    "#        'learning_rate': [0.01, 0.05, 0.1, 0.2], \n",
    "#        'n_estimators': [100, 250, 500, 1000],\n",
    "#        'max_depth': [1, 2, 3, 4, 5, 10]     \n",
    "# }\n",
    "\n",
    "# gridGBR = GridSearchCV(estimator = GBR, param_grid = params, n_jobs = -1)\n",
    "# gridGBR.fit(xTrain, yTrain.values.ravel(), sample_weight = training_weights)\n",
    "# print('best parameters:', gridGBR.best_params_)\n",
    "\n",
    "GBR.fit(xTrain, yTrain.values.ravel(), sample_weight = training_weights)\n"
   ]
  },
  {
   "cell_type": "code",
   "execution_count": 115,
   "id": "496815ab-16cc-47c3-94ea-a651b9ccb6f6",
   "metadata": {},
   "outputs": [
    {
     "name": "stdout",
     "output_type": "stream",
     "text": [
      "coefficient of determination on test set: 0.95\n",
      "MSE: 538021645.8623378\n"
     ]
    }
   ],
   "source": [
    "#assess gradient boosting model\n",
    "yHatGBR = GBR.predict(xTest)\n",
    "scoreGBR = GBR.score(xTest, yTest, sample_weight = testing_weights)\n",
    "print('coefficient of determination on test set:', np.round(scoreGBR, 2))\n",
    "print('MSE:', mean_squared_error(yTest, yHatGBR, sample_weight = testing_weights))\n",
    "#PlotScatter(yHatGBR)"
   ]
  },
  {
   "cell_type": "code",
   "execution_count": 118,
   "id": "21e79793-a46c-48dd-8379-70a8b8b03c4a",
   "metadata": {},
   "outputs": [
    {
     "data": {
      "text/plain": [
       "StackingRegressor(estimators=[('rf', RandomForestRegressor(n_estimators=500)),\n",
       "                              ('dc',\n",
       "                               DecisionTreeRegressor(criterion='friedman_mse',\n",
       "                                                     max_depth=10,\n",
       "                                                     min_samples_split=10,\n",
       "                                                     random_state=1)),\n",
       "                              ('gb',\n",
       "                               GradientBoostingRegressor(max_depth=5,\n",
       "                                                         n_estimators=500))],\n",
       "                  final_estimator=RandomForestRegressor(random_state=1))"
      ]
     },
     "execution_count": 118,
     "metadata": {},
     "output_type": "execute_result"
    }
   ],
   "source": [
    "## Training a stacking estimator \n",
    "estimators = [('rf', rForest),\n",
    "              ('dc', tree),\n",
    "              ('gb', GBR)]\n",
    "\n",
    "stack_reg = StackingRegressor(estimators=estimators, \n",
    "                             final_estimator=RandomForestRegressor(n_estimators=100,\n",
    "                                           random_state=1))\n",
    "stack_reg.fit(xTrain, yTrain.values.ravel(),\n",
    "        sample_weight = training_weights)\n"
   ]
  },
  {
   "cell_type": "code",
   "execution_count": 104,
   "id": "e10ddae1-04de-4752-a9da-7965bf466ffc",
   "metadata": {},
   "outputs": [
    {
     "name": "stdout",
     "output_type": "stream",
     "text": [
      "coefficient of determination on test set: 0.93\n",
      "MSE: 425197029.46430343\n"
     ]
    }
   ],
   "source": [
    "## Asses the stacking estimator \n",
    "yHatStack = stack_reg.predict(xTest)\n",
    "score_stack = stack_reg.score(xTest, yTest, sample_weight = testing_weights)\n",
    "print('coefficient of determination on test set:', np.round(score_stack,2))\n",
    "print('MSE:', mean_squared_error(yTest, yHatStack, sample_weight = testing_weights))"
   ]
  },
  {
   "cell_type": "code",
   "execution_count": 116,
   "id": "efcfe116-0ecb-44fd-a299-fdfa5a4c3ee7",
   "metadata": {},
   "outputs": [
    {
     "data": {
      "text/plain": [
       "BaggingRegressor(base_estimator=DecisionTreeRegressor(criterion='friedman_mse',\n",
       "                                                      max_depth=10,\n",
       "                                                      min_samples_split=10,\n",
       "                                                      random_state=1),\n",
       "                 n_estimators=500, n_jobs=-1, random_state=1)"
      ]
     },
     "execution_count": 116,
     "metadata": {},
     "output_type": "execute_result"
    }
   ],
   "source": [
    "bag = BaggingRegressor(base_estimator = tree, n_estimators = 500, n_jobs = -1, random_state = 1)\n",
    "\n",
    "# params = {'base_estimator': [tree, None], \n",
    "#         'n_estimators': [10, 100, 250, 500]}\n",
    "\n",
    "# gridBag = GridSearchCV(estimator = bag, \n",
    "#                     param_grid = params,\n",
    "#                     n_jobs = -1)\n",
    "\n",
    "# gridBag.fit(xTrain, yTrain.values.ravel(), sample_weight = training_weights)\n",
    "# print('best params:' , gridBag.best_params_)\n",
    "# print('best_score:', gridBag.best_score_)\n",
    "\n",
    "bag.fit(xTrain, yTrain.values.ravel(), sample_weight = training_weights)"
   ]
  },
  {
   "cell_type": "code",
   "execution_count": 117,
   "id": "618cf4c2",
   "metadata": {},
   "outputs": [
    {
     "name": "stdout",
     "output_type": "stream",
     "text": [
      "coefficient of determination on test set: 0.94\n",
      "MSE: 647062323.2287009\n"
     ]
    }
   ],
   "source": [
    "yHatBag = bag.predict(xTest)\n",
    "score_bag = bag.score(xTest, yTest, sample_weight = testing_weights)\n",
    "print('coefficient of determination on test set:', np.round(score_bag, 2))\n",
    "print('MSE:', mean_squared_error(yTest, yHatBag, sample_weight = testing_weights))"
   ]
  }
 ],
 "metadata": {
  "interpreter": {
   "hash": "1a7d1808110443b3cdaed7c6de853f824ed46249aa2d1a3ebcec599b392942a3"
  },
  "kernelspec": {
   "display_name": "Python 3 (ipykernel)",
   "language": "python",
   "name": "python3"
  },
  "language_info": {
   "codemirror_mode": {
    "name": "ipython",
    "version": 3
   },
   "file_extension": ".py",
   "mimetype": "text/x-python",
   "name": "python",
   "nbconvert_exporter": "python",
   "pygments_lexer": "ipython3",
   "version": "3.9.6"
  }
 },
 "nbformat": 4,
 "nbformat_minor": 5
}
