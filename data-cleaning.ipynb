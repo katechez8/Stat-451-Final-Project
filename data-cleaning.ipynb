{
 "cells": [
  {
   "cell_type": "markdown",
   "id": "865109d0-9484-4244-9d87-0dcd6ebfa9c0",
   "metadata": {},
   "source": [
    "Cleaning Data for Analysis "
   ]
  },
  {
   "cell_type": "code",
   "execution_count": 18,
   "id": "05cf245f-705d-44bc-9155-21e6dbb623fe",
   "metadata": {},
   "outputs": [],
   "source": [
    "#import statements\n",
    "import numpy as np\n",
    "import pandas as pd\n",
    "from matplotlib.pyplot import subplots\n",
    "import matplotlib.pyplot as plt\n",
    "from sklearn.model_selection import train_test_split\n",
    "from sklearn.model_selection import GridSearchCV\n",
    "from sklearn.linear_model import LinearRegression\n",
    "from sklearn.ensemble import RandomForestRegressor\n",
    "from sklearn.tree import DecisionTreeRegressor\n",
    "from sklearn.ensemble import GradientBoostingRegressor\n",
    "from sklearn.neighbors import KNeighborsRegressor\n",
    "from sklearn.ensemble import StackingRegressor\n",
    "from sklearn.ensemble import BaggingRegressor"
   ]
  },
  {
   "cell_type": "code",
   "execution_count": 2,
   "id": "21930e3c",
   "metadata": {},
   "outputs": [],
   "source": [
    "#function definitions\n",
    "def PlotScatter(yhat):\n",
    "    fig, ax = plt.subplots()\n",
    "    ax.scatter(yhat, yTest)\n",
    "    ax.set_xlabel('Predicted Sale Price (in Millions)')\n",
    "    ax.set_ylabel('Actual Sale Price (in Millions)')\n",
    "    return ax"
   ]
  },
  {
   "cell_type": "markdown",
   "id": "3c430428-4efc-4c0d-a2da-720b65d1f2d7",
   "metadata": {},
   "source": [
    "Because not all new construction homes were sold, and among those that were sold, not all reported the sale price. Those cases simply list sale price (SLPR) as 0. Because for our analysis these examples are not of interest to us they will be removed. Additionally there are two variables that indicate the sale price of the home: SLPR and FSLPR. FSLPR (Final Sale Price) is only filled in if the SLPR was changed before the final closing date. Because we would like the most accurate information FSLPR and SLPR will be combined into FSLPR filling in the missing information of FSLPR with SLPR."
   ]
  },
  {
   "cell_type": "code",
   "execution_count": 3,
   "id": "d84535a4-3641-4468-8daf-21fc62fe9e6b",
   "metadata": {},
   "outputs": [
    {
     "name": "stdout",
     "output_type": "stream",
     "text": [
      "(24810, 61)\n",
      "(13257, 41)\n"
     ]
    }
   ],
   "source": [
    "## Reading and cleaning data\n",
    "raw_data = pd.read_csv('soc19.csv')\n",
    "print(raw_data.shape)\n",
    "\n",
    "## Remove rows where sale price was not reported or house was not sold \n",
    "raw_data = raw_data[(raw_data['SLPR'] != 0) | (raw_data['FSLPR'] != 0)]\n",
    "\n",
    "## If FSLPR is zero, replace this value with SLPR\n",
    "raw_data.FSLPR[raw_data.FSLPR == 0] = raw_data.SLPR\n",
    "\n",
    "## Features to remove \n",
    "remove_features = [\"SLPR\", \"FCONPR\", \"SALE\", \"COMP\", \"AUTH\", \"ID\", \"STRT\", \"PVALU\", \"FNSQ_F\", \"CONPR\", \"FINC\",\n",
    "               \"SLPR_F\", \"FSLPR_F\", \"FCONPR_F\", \"LOTV_F\", \"SQFS_F\", \"FSQFS_F\", \"PVALU_F\", \"AREA_F\", \"CONPR_F\"]\n",
    "\n",
    "## Removing Features \n",
    "raw_data = raw_data.drop(columns = remove_features)\n",
    " \n",
    "## clean data export\n",
    "cleaned_data = raw_data \n",
    "cleaned_data.to_csv('cleaned_data.csv', index=False)\n",
    "print(cleaned_data.shape)\n",
    "\n",
    "## Creating a data dictionary to specify data types \n",
    "feature_types = {\"ACS\": 'category', \"AGER\": 'category', \"ASSOC\": 'category', \"BASE\": 'category',\n",
    "                \"CAT\": 'category', \"CLOS\": 'category', \"CON\": 'category', \"DECK\": 'category',\n",
    "                \"DET\": 'category', \"DIV\": 'category', \"FNBS\": 'category', \"FOYER\": 'category',\n",
    "                \"FRAME\": 'category', \"GAR\": 'category', \"HEAT\": 'category', \"HEAT2\": 'category',\n",
    "                \"LNDR\": 'category', \"MFGS\": 'category', \"PATI\": 'category', \"PRCH\": 'category',\n",
    "                \"SEWER\": 'category', \"STOR\": 'category', \"WAL1\": 'category', \"WALS\": 'category',\n",
    "                \"WATER\": 'category', \"BEDR\": 'category', \"FPLS\": 'category', \"FULB\": 'category',\n",
    "                \"HAFB\": 'category', \"WEIGHT\": int, \"FUEL\": 'category', \"FUEL2\": 'category',\n",
    "                \"FSLPR\": np.float64, \"SQFS\": np.float64, \"FSQFS\": np.float64, \"LOTV\": np.float64,\n",
    "                \"FFNSQ\": np.float64, \"AREA\": np.float64}\n",
    "\n",
    "## Changing data types of features\n",
    "cleaned_data = cleaned_data.astype(feature_types)\n",
    "\n",
    "#create train and test set\n",
    "x = cleaned_data.loc[:, cleaned_data.columns != 'FSLPR']\n",
    "y = cleaned_data.loc[:, cleaned_data.columns == 'FSLPR']\n",
    "xTrain, xTest, yTrain, yTest = train_test_split(x, y, test_size = 0.2, random_state = 1)\n",
    "\n",
    "## Create 1d arrays of training and test sample weights \n",
    "training_weights = xTrain.loc[:, xTrain.columns == 'WEIGHT'].values.flatten()\n",
    "testing_weights = xTest.loc[:, xTest.columns == 'WEIGHT'].values.flatten()\n",
    "\n",
    "## Drop sample weights from training and testing data sets so not included in model\n",
    "xTrain = xTrain.drop(columns = 'WEIGHT')\n",
    "xTest = xTest.drop(columns = 'WEIGHT')"
   ]
  },
  {
   "cell_type": "markdown",
   "id": "923293ae",
   "metadata": {},
   "source": [
    "General Data Exploration: Stats stuff not necessarily related to machine learning"
   ]
  },
  {
   "cell_type": "code",
   "execution_count": 4,
   "id": "72dc8a00",
   "metadata": {},
   "outputs": [
    {
     "data": {
      "text/plain": [
       "count    1.325700e+04\n",
       "mean     4.061244e+05\n",
       "std      2.234747e+05\n",
       "min      1.100000e+05\n",
       "25%      2.610000e+05\n",
       "50%      3.500000e+05\n",
       "75%      4.850000e+05\n",
       "max      2.395000e+06\n",
       "Name: FSLPR, dtype: float64"
      ]
     },
     "execution_count": 4,
     "metadata": {},
     "output_type": "execute_result"
    }
   ],
   "source": [
    "#summary statistics\n",
    "cleaned_data['FSLPR'].describe()"
   ]
  },
  {
   "cell_type": "code",
   "execution_count": 5,
   "id": "be2e7495",
   "metadata": {},
   "outputs": [
    {
     "data": {
      "text/plain": [
       "Text(0.5, 1.0, 'Distribution of Final Sale Price')"
      ]
     },
     "execution_count": 5,
     "metadata": {},
     "output_type": "execute_result"
    },
    {
     "data": {
      "image/png": "[encoded data removed]",
      "text/plain": [
       "<Figure size 432x288 with 1 Axes>"
      ]
     },
     "metadata": {
      "needs_background": "light"
     },
     "output_type": "display_data"
    }
   ],
   "source": [
    "FSLPRdensity = cleaned_data['FSLPR'].plot(kind = 'density')\n",
    "FSLPRdensity.set_xlabel('Sale Price (in Millions)')\n",
    "FSLPRdensity.set_xlim(0)\n",
    "FSLPRdensity.set_title('Distribution of Final Sale Price')"
   ]
  },
  {
   "cell_type": "code",
   "execution_count": 6,
   "id": "b9353513",
   "metadata": {},
   "outputs": [
    {
     "data": {
      "image/png": "[encoded data removed]",
      "text/plain": [
       "<Figure size 432x288 with 1 Axes>"
      ]
     },
     "metadata": {
      "needs_background": "light"
     },
     "output_type": "display_data"
    }
   ],
   "source": [
    "FSLPRbox = cleaned_data['FSLPR'].plot(kind = 'box') #lot of high outliers\n",
    "FSLPRbox.set_ylabel('Sale Price (in Millions)')\n",
    "FSLPRbox.xaxis.set_visible(False)"
   ]
  },
  {
   "cell_type": "markdown",
   "id": "1f842be2",
   "metadata": {},
   "source": [
    "Model Implementation"
   ]
  },
  {
   "cell_type": "code",
   "execution_count": 7,
   "id": "63afb858-429f-453a-8aad-750b5c5a31f9",
   "metadata": {},
   "outputs": [
    {
     "data": {
      "text/plain": [
       "LinearRegression()"
      ]
     },
     "execution_count": 7,
     "metadata": {},
     "output_type": "execute_result"
    }
   ],
   "source": [
    "## Simple linear regression as baseline \n",
    "reg = LinearRegression()\n",
    "reg.fit(xTrain, yTrain,\n",
    "        sample_weight = training_weights)"
   ]
  },
  {
   "cell_type": "code",
   "execution_count": 8,
   "id": "adc27001-c237-42e1-b96d-07c7eff315fe",
   "metadata": {},
   "outputs": [
    {
     "name": "stdout",
     "output_type": "stream",
     "text": [
      "Coefficient of determination on test set: 0.47\n"
     ]
    }
   ],
   "source": [
    "## Asses linear regression model\n",
    "score_reg = reg.score(xTest, yTest,\n",
    "                      sample_weight = testing_weights)\n",
    "print('Coefficient of determination on test set:', np.round(score_reg,2))"
   ]
  },
  {
   "cell_type": "code",
   "execution_count": 9,
   "id": "fcbeb095",
   "metadata": {},
   "outputs": [
    {
     "data": {
      "text/plain": [
       "RandomForestRegressor(n_estimators=500)"
      ]
     },
     "execution_count": 9,
     "metadata": {},
     "output_type": "execute_result"
    }
   ],
   "source": [
    "#Random Forest\n",
    "rForest = RandomForestRegressor(n_estimators=500)\n",
    "\n",
    "# hyper-parameter optimization was run with the following grid search layout\n",
    "# I have commented it out and changed the main regressor to reflect the best parameters to save time\n",
    "\n",
    "# params = {\n",
    "#        'n_estimators': [100, 250, 500, 1000],\n",
    "# }\n",
    "\n",
    "# gridForest = GridSearchCV(estimator = rForest, param_grid = params, n_jobs = -1)\n",
    "# gridForest.fit(xTrain, yTrain.values.ravel(), sample_weight = training_weights)\n",
    "# print('best parameters:', gridForest.best_params_)\n",
    "\n",
    "rForest.fit(xTrain, yTrain.values.ravel(), sample_weight = training_weights)"
   ]
  },
  {
   "cell_type": "code",
   "execution_count": 10,
   "id": "fb6c41c7",
   "metadata": {},
   "outputs": [
    {
     "name": "stdout",
     "output_type": "stream",
     "text": [
      "Coefficient of determination on test set: 0.79\n"
     ]
    },
    {
     "data": {
      "text/plain": [
       "<AxesSubplot:xlabel='Predicted Sale Price (in Millions)', ylabel='Actual Sale Price (in Millions)'>"
      ]
     },
     "execution_count": 10,
     "metadata": {},
     "output_type": "execute_result"
    },
    {
     "data": {
      "image/png": "[encoded data removed]",
      "text/plain": [
       "<Figure size 432x288 with 1 Axes>"
      ]
     },
     "metadata": {
      "needs_background": "light"
     },
     "output_type": "display_data"
    }
   ],
   "source": [
    "#evaluate model in another cell so don't need to refit model every time\n",
    "yHatForest = rForest.predict(xTest)\n",
    "scoreForest = rForest.score(xTest, yTest, sample_weight = testing_weights)\n",
    "print('Coefficient of determination on test set:', np.round(scoreForest,2)) \n",
    "\n",
    "PlotScatter(yHatForest)"
   ]
  },
  {
   "cell_type": "code",
   "execution_count": 16,
   "id": "e3f0014f",
   "metadata": {},
   "outputs": [
    {
     "data": {
      "text/plain": [
       "DecisionTreeRegressor(criterion='friedman_mse', max_depth=10,\n",
       "                      min_samples_split=10, random_state=1)"
      ]
     },
     "execution_count": 16,
     "metadata": {},
     "output_type": "execute_result"
    }
   ],
   "source": [
    "#train decision tree\n",
    "tree = DecisionTreeRegressor(criterion = 'friedman_mse',\n",
    "                            max_depth = 10,\n",
    "                            min_samples_split = 10,\n",
    "                            random_state = 1)\n",
    "\n",
    "# params = {\n",
    "#        'criterion': ['squared_error', 'friedman_mse'],\n",
    "#        'splitter': ['best', 'random'],\n",
    "#        'max_depth': [5, 10, 15, None],\n",
    "#        'min_samples_split': [2, 5, 10],\n",
    "#        'max_features': ['auto', 'sqrt', 'log2'],\n",
    "#        'random_state': [1]\n",
    "\n",
    "# }\n",
    "\n",
    "# gridTree = GridSearchCV(estimator = tree, param_grid = params, n_jobs = -1)\n",
    "# gridTree.fit(xTrain, yTrain.values.ravel(), sample_weight = training_weights)\n",
    "# print('best parameters:', gridTree.best_params_)\n",
    "# print('best score', gridTree.best_score_)\n",
    "\n",
    "tree.fit(xTrain, yTrain, sample_weight = training_weights)"
   ]
  },
  {
   "cell_type": "code",
   "execution_count": 17,
   "id": "d5c24d9e",
   "metadata": {},
   "outputs": [
    {
     "name": "stdout",
     "output_type": "stream",
     "text": [
      "coefficient of determination on test set: 0.69\n"
     ]
    },
    {
     "data": {
      "text/plain": [
       "<AxesSubplot:xlabel='Predicted Sale Price (in Millions)', ylabel='Actual Sale Price (in Millions)'>"
      ]
     },
     "execution_count": 17,
     "metadata": {},
     "output_type": "execute_result"
    },
    {
     "data": {
      "image/png": "[encoded data removed]",
      "text/plain": [
       "<Figure size 432x288 with 1 Axes>"
      ]
     },
     "metadata": {
      "needs_background": "light"
     },
     "output_type": "display_data"
    }
   ],
   "source": [
    "#assess tree\n",
    "yHatTree = tree.predict(xTest)\n",
    "scoreTree = tree.score(xTest, yTest, sample_weight = testing_weights)\n",
    "print('coefficient of determination on test set:', np.round(scoreTree,2))\n",
    "PlotScatter(yHatTree)"
   ]
  },
  {
   "cell_type": "markdown",
   "id": "f8a95ecf-a85f-43a5-8cb2-c3d4d816045e",
   "metadata": {},
   "source": [
    "Gradient Boosting Model"
   ]
  },
  {
   "cell_type": "code",
   "execution_count": 11,
   "id": "1356e4a6-5208-40c0-bf6c-6cf0d49cd8a7",
   "metadata": {},
   "outputs": [
    {
     "data": {
      "text/plain": [
       "GradientBoostingRegressor(max_depth=5, n_estimators=500)"
      ]
     },
     "execution_count": 11,
     "metadata": {},
     "output_type": "execute_result"
    }
   ],
   "source": [
    "#Gradient boosting \n",
    "GBR = GradientBoostingRegressor(n_estimators = 500, max_depth = 5)\n",
    "\n",
    "# hyper-parameter optimization was run with the following grid search layout\n",
    "# I have commented it out and changed the main regressor to reflect the best parameters to save time\n",
    "\n",
    "# params = {\n",
    "#        'learning_rate': [0.01, 0.05, 0.1, 0.2], \n",
    "#        'n_estimators': [100, 250, 500, 1000],\n",
    "#        'max_depth': [1, 2, 3, 4, 5, 10]     \n",
    "# }\n",
    "\n",
    "# gridGBR = GridSearchCV(estimator = GBR, param_grid = params, n_jobs = -1)\n",
    "# gridGBR.fit(xTrain, yTrain.values.ravel(), sample_weight = training_weights)\n",
    "# print('best parameters:', gridGBR.best_params_)\n",
    "\n",
    "GBR.fit(xTrain, yTrain.values.ravel(), sample_weight = training_weights)\n"
   ]
  },
  {
   "cell_type": "code",
   "execution_count": 12,
   "id": "496815ab-16cc-47c3-94ea-a651b9ccb6f6",
   "metadata": {},
   "outputs": [
    {
     "name": "stdout",
     "output_type": "stream",
     "text": [
      "coefficient of determination on test set: 0.78\n"
     ]
    },
    {
     "data": {
      "text/plain": [
       "<AxesSubplot:xlabel='Predicted Sale Price (in Millions)', ylabel='Actual Sale Price (in Millions)'>"
      ]
     },
     "execution_count": 12,
     "metadata": {},
     "output_type": "execute_result"
    },
    {
     "data": {
      "image/png": "[encoded data removed]",
      "text/plain": [
       "<Figure size 432x288 with 1 Axes>"
      ]
     },
     "metadata": {
      "needs_background": "light"
     },
     "output_type": "display_data"
    }
   ],
   "source": [
    "#assess gradient boosting model\n",
    "yHatGBR = GBR.predict(xTest)\n",
    "scoreGBR = GBR.score(xTest, yTest, sample_weight = testing_weights)\n",
    "print('coefficient of determination on test set:', np.round(scoreGBR, 2))\n",
    "PlotScatter(yHatGBR)"
   ]
  },
  {
   "cell_type": "code",
   "execution_count": 37,
   "id": "2801c879-4b7e-4966-b2fd-460a545ff665",
   "metadata": {},
   "outputs": [
    {
     "data": {
      "text/plain": [
       "KNeighborsRegressor(metric='wminkowski',\n",
       "                    metric_params={'w': array([65, 76, 27, ..., 76, 25, 45])},\n",
       "                    n_neighbors=15)"
      ]
     },
     "execution_count": 37,
     "metadata": {},
     "output_type": "execute_result"
    }
   ],
   "source": [
    "## Train KNN model\n",
    "KNN_reg = KNeighborsRegressor(n_neighbors = 15,\n",
    "                             metric='wminkowski',\n",
    "                            p=2, \n",
    "                           metric_params={'w': training_weights})\n",
    "KNN_reg.fit(xTrain, yTrain)"
   ]
  },
  {
   "cell_type": "code",
   "execution_count": 40,
   "id": "a1d54ee7-6642-4261-9008-df4ef14c9361",
   "metadata": {},
   "outputs": [
    {
     "name": "stderr",
     "output_type": "stream",
     "text": [
      "C:\\JupyterLab\\resources\\jlab_server\\lib\\site-packages\\sklearn\\base.py:441: UserWarning: X does not have valid feature names, but KNeighborsRegressor was fitted with feature names\n",
      "  warnings.warn(\n"
     ]
    },
    {
     "name": "stdout",
     "output_type": "stream",
     "text": [
      "coefficient of determination on test set: 0.48\n"
     ]
    }
   ],
   "source": [
    "## Assesing KNN model \n",
    "scoreKNN = KNN_reg.score(xTest, yTest,\n",
    "                        sample_weight = testing_weights)\n",
    "print('coefficient of determination on test set:', np.round(scoreKNN,2)) # Not very good at all"
   ]
  },
  {
   "cell_type": "code",
   "execution_count": 55,
   "id": "21e79793-a46c-48dd-8379-70a8b8b03c4a",
   "metadata": {},
   "outputs": [
    {
     "data": {
      "text/plain": [
       "StackingRegressor(estimators=[('rf', RandomForestRegressor(n_estimators=500)),\n",
       "                              ('dc', DecisionTreeRegressor()),\n",
       "                              ('gb',\n",
       "                               GradientBoostingRegressor(max_depth=5,\n",
       "                                                         n_estimators=500))],\n",
       "                  final_estimator=RandomForestRegressor(random_state=1))"
      ]
     },
     "execution_count": 55,
     "metadata": {},
     "output_type": "execute_result"
    }
   ],
   "source": [
    "## Training a stacking estimator \n",
    "estimators = [('rf', rForest),\n",
    "              ('dc', tree),\n",
    "              ('gb', GBR)]\n",
    "\n",
    "stack_reg = StackingRegressor(estimators=estimators, \n",
    "                             final_estimator=RandomForestRegressor(n_estimators=100,\n",
    "                                           random_state=1))\n",
    "stack_reg.fit(xTrain, yTrain.values.ravel(),\n",
    "        sample_weight = training_weights)\n"
   ]
  },
  {
   "cell_type": "code",
   "execution_count": 56,
   "id": "e10ddae1-04de-4752-a9da-7965bf466ffc",
   "metadata": {},
   "outputs": [
    {
     "name": "stdout",
     "output_type": "stream",
     "text": [
      "coefficient of determination on test set: 0.77\n"
     ]
    }
   ],
   "source": [
    "## Asses the stacking estimator \n",
    "score_stack = stack_reg.score(xTest, yTest, sample_weight = testing_weights)\n",
    "print('coefficient of determination on test set:', np.round(score_stack,2))"
   ]
  },
  {
   "cell_type": "code",
   "execution_count": 22,
   "id": "efcfe116-0ecb-44fd-a299-fdfa5a4c3ee7",
   "metadata": {},
   "outputs": [
    {
     "data": {
      "text/plain": [
       "BaggingRegressor(base_estimator=DecisionTreeRegressor(criterion='friedman_mse',\n",
       "                                                      max_depth=10,\n",
       "                                                      min_samples_split=10,\n",
       "                                                      random_state=1),\n",
       "                 n_estimators=500, n_jobs=-1, random_state=1)"
      ]
     },
     "execution_count": 22,
     "metadata": {},
     "output_type": "execute_result"
    }
   ],
   "source": [
    "bag = BaggingRegressor(base_estimator = tree, n_estimators = 500, n_jobs = -1, random_state = 1)\n",
    "\n",
    "# params = {'base_estimator': [tree, None], \n",
    "#         'n_estimators': [10, 100, 250, 500]}\n",
    "\n",
    "# gridBag = GridSearchCV(estimator = bag, \n",
    "#                     param_grid = params,\n",
    "#                     n_jobs = -1)\n",
    "\n",
    "# gridBag.fit(xTrain, yTrain.values.ravel(), sample_weight = training_weights)\n",
    "# print('best params:' , gridBag.best_params_)\n",
    "# print('best_score:', gridBag.best_score_)\n",
    "\n",
    "bag.fit(xTrain, yTrain.values.ravel(), sample_weight = training_weights)"
   ]
  },
  {
   "cell_type": "code",
   "execution_count": 23,
   "id": "618cf4c2",
   "metadata": {},
   "outputs": [
    {
     "name": "stdout",
     "output_type": "stream",
     "text": [
      "coefficient of determination on test set: 0.75\n"
     ]
    }
   ],
   "source": [
    "score_bag = bag.score(xTest, yTest, sample_weight = testing_weights)\n",
    "print('coefficient of determination on test set:', np.round(score_bag, 2))"
   ]
  }
 ],
 "metadata": {
  "interpreter": {
   "hash": "1a7d1808110443b3cdaed7c6de853f824ed46249aa2d1a3ebcec599b392942a3"
  },
  "kernelspec": {
   "display_name": "Python 3 (ipykernel)",
   "language": "python",
   "name": "python3"
  },
  "language_info": {
   "codemirror_mode": {
    "name": "ipython",
    "version": 3
   },
   "file_extension": ".py",
   "mimetype": "text/x-python",
   "name": "python",
   "nbconvert_exporter": "python",
   "pygments_lexer": "ipython3",
   "version": "3.9.6"
  }
 },
 "nbformat": 4,
 "nbformat_minor": 5
}
