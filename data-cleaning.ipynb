{
 "cells": [
  {
   "cell_type": "markdown",
   "id": "865109d0-9484-4244-9d87-0dcd6ebfa9c0",
   "metadata": {},
   "source": [
    "Cleaning Data for Analysis "
   ]
  },
  {
   "cell_type": "code",
   "execution_count": 1,
   "id": "05cf245f-705d-44bc-9155-21e6dbb623fe",
   "metadata": {},
   "outputs": [],
   "source": [
    "#import statements\n",
    "import numpy as np\n",
    "import pandas as pd\n",
    "from matplotlib.pyplot import subplots\n",
    "import matplotlib.pyplot as plt\n",
    "from sklearn.model_selection import train_test_split\n",
    "from sklearn.model_selection import GridSearchCV\n",
    "from sklearn.linear_model import LinearRegression\n",
    "from sklearn.ensemble import RandomForestRegressor\n",
    "from sklearn.tree import DecisionTreeRegressor\n",
    "from sklearn.ensemble import GradientBoostingRegressor\n",
    "from sklearn.ensemble import StackingRegressor\n",
    "from sklearn.ensemble import BaggingRegressor\n",
    "from sklearn.metrics import mean_squared_error"
   ]
  },
  {
   "cell_type": "code",
   "execution_count": 2,
   "id": "21930e3c",
   "metadata": {},
   "outputs": [],
   "source": [
    "#function definitions\n",
    "def PlotScatter(yhat):\n",
    "    fig, ax = plt.subplots()\n",
    "    ax.scatter(yhat, yTest)\n",
    "    ax.set_xlabel('Predicted Sale Price (in Millions)')\n",
    "    ax.set_ylabel('Actual Sale Price (in Millions)')\n",
    "    return ax"
   ]
  },
  {
   "cell_type": "markdown",
   "id": "3c430428-4efc-4c0d-a2da-720b65d1f2d7",
   "metadata": {},
   "source": [
    "Because not all new construction homes were sold, and among those that were sold, not all reported the sale price. Those cases simply list sale price (SLPR) as 0. Because for our analysis these examples are not of interest to us they will be removed. Additionally there are two variables that indicate the sale price of the home: SLPR and FSLPR. FSLPR (Final Sale Price) is only filled in if the SLPR was changed before the final closing date. Because we would like the most accurate information FSLPR and SLPR will be combined into FSLPR filling in the missing information of FSLPR with SLPR."
   ]
  },
  {
   "cell_type": "code",
   "execution_count": 30,
   "id": "d84535a4-3641-4468-8daf-21fc62fe9e6b",
   "metadata": {},
   "outputs": [
    {
     "name": "stdout",
     "output_type": "stream",
     "text": [
      "(24810, 61)\n",
      "(13257, 40)\n"
     ]
    }
   ],
   "source": [
    "## Reading and cleaning data\n",
    "raw_data = pd.read_csv('soc19.csv')\n",
    "print(raw_data.shape)\n",
    "\n",
    "## Remove rows where sale price was not reported or house was not sold \n",
    "raw_data = raw_data[(raw_data['SLPR'] != 0) | (raw_data['FSLPR'] != 0)]\n",
    "\n",
    "## If FSLPR is zero, replace this value with SLPR\n",
    "zeroFSLPR = raw_data.FSLPR == 0\n",
    "raw_data.FSLPR[zeroFSLPR] = raw_data.SLPR[zeroFSLPR]\n",
    "\n",
    "## Merge SQFS and FSQFS\n",
    "zeroFSQFS = raw_data.FSQFS == 0\n",
    "nonZeroFSQFS = np.invert(zeroFSQFS)\n",
    "meanFSQFS = np.mean(raw_data.FSQFS[nonZeroFSQFS])\n",
    "raw_data.FSQFS[zeroFSQFS] = raw_data.SQFS[zeroFSQFS]\n",
    "\n",
    "#if the final square foot is zero replace with mean\n",
    "zeroFSQFS = raw_data.FSQFS == 0\n",
    "raw_data.FSQFS[zeroFSQFS] = meanFSQFS\n",
    "\n",
    "## Impute values of LOTV with mean\n",
    "zeroLOTV = raw_data.LOTV == 0\n",
    "nonZeroLOTV = np.invert(zeroLOTV)\n",
    "meanLORV = np.mean(raw_data.FSQFS[nonZeroLOTV])\n",
    "\n",
    "raw_data.LOTV[zeroLOTV] = meanLORV\n",
    "\n",
    "## Impute values of AREA with mean\n",
    "zeroAREA = raw_data.AREA == 0\n",
    "nonZeroAREA = np.invert(zeroAREA)\n",
    "meanAREA = np.mean(raw_data.FSQFS[nonZeroAREA])\n",
    "raw_data.AREA[zeroAREA] = meanAREA\n",
    "\n",
    "## Features to remove \n",
    "remove_features = [\"SLPR\", \"FCONPR\", \"SALE\", \"COMP\", \"AUTH\", \"ID\", \"STRT\", \"PVALU\", \"FNSQ_F\", \"CONPR\", \"FINC\",\n",
    "               \"SLPR_F\", \"FSLPR_F\", \"FCONPR_F\", \"LOTV_F\", \"SQFS_F\", \"FSQFS_F\", \"PVALU_F\", \"AREA_F\", \"CONPR_F\", \"SQFS\"]\n",
    "\n",
    "## Removing Features \n",
    "raw_data = raw_data.drop(columns = remove_features)\n",
    " \n",
    "# clean data export\n",
    "cleaned_data = raw_data \n",
    "raw_data.to_csv('cleaned_data.csv', index = False)\n",
    "print(cleaned_data.shape)\n",
    "\n",
    "## Creating a data dictionary to specify data types \n",
    "feature_types = {\"ACS\": 'category', \"AGER\": 'category', \"ASSOC\": 'category', \"BASE\": 'category',\n",
    "                \"CAT\": 'category', \"CLOS\": 'category', \"CON\": 'category', \"DECK\": 'category',\n",
    "                \"DET\": 'category', \"DIV\": 'category', \"FNBS\": 'category', \"FOYER\": 'category',\n",
    "                \"FRAME\": 'category', \"GAR\": 'category', \"HEAT\": 'category', \"HEAT2\": 'category',\n",
    "                \"LNDR\": 'category', \"MFGS\": 'category', \"PATI\": 'category', \"PRCH\": 'category',\n",
    "                \"SEWER\": 'category', \"STOR\": 'category', \"WAL1\": 'category', \"WALS\": 'category',\n",
    "                \"WATER\": 'category', \"BEDR\": 'category', \"FPLS\": 'category', \"FULB\": 'category',\n",
    "                \"HAFB\": 'category', \"WEIGHT\": int, \"FUEL\": 'category', \"FUEL2\": 'category',\n",
    "                \"FSLPR\": np.float64, \"FSQFS\": np.float64, \"LOTV\": np.float64,\n",
    "                \"FFNSQ\": np.float64, \"AREA\": np.float64}\n",
    "\n",
    "## Changing data types of features\n",
    "cleaned_data = cleaned_data.astype(feature_types)\n",
    "\n",
    "#create train and test set\n",
    "x = cleaned_data.loc[:, cleaned_data.columns != 'FSLPR']\n",
    "y = cleaned_data.loc[:, cleaned_data.columns == 'FSLPR']\n",
    "xTrain, xTest, yTrain, yTest = train_test_split(x, y, test_size = 0.2, random_state = 1)\n",
    "\n",
    "## Create 1d arrays of training and test sample weights \n",
    "training_weights = xTrain.loc[:, xTrain.columns == 'WEIGHT'].values.flatten()\n",
    "testing_weights = xTest.loc[:, xTest.columns == 'WEIGHT'].values.flatten()\n",
    "\n",
    "## Drop sample weights from training and testing data sets so not included in model\n",
    "xTrain = xTrain.drop(columns = 'WEIGHT')\n",
    "xTest = xTest.drop(columns = 'WEIGHT')\n",
    "\n"
   ]
  },
  {
   "cell_type": "markdown",
   "id": "923293ae",
   "metadata": {},
   "source": [
    "General Data Exploration: Stats stuff not necessarily related to machine learning"
   ]
  },
  {
   "cell_type": "code",
   "execution_count": 31,
   "id": "72dc8a00",
   "metadata": {},
   "outputs": [
    {
     "data": {
      "text/plain": [
       "count    1.325700e+04\n",
       "mean     2.005048e+05\n",
       "std      2.162092e+05\n",
       "min      2.590449e+03\n",
       "25%      3.571842e+04\n",
       "50%      3.571842e+04\n",
       "75%      3.250000e+05\n",
       "max      2.229000e+06\n",
       "Name: FSLPR, dtype: float64"
      ]
     },
     "execution_count": 31,
     "metadata": {},
     "output_type": "execute_result"
    }
   ],
   "source": [
    "#summary statistics\n",
    "cleaned_data['FSLPR'].describe()"
   ]
  },
  {
   "cell_type": "code",
   "execution_count": 32,
   "id": "be2e7495",
   "metadata": {},
   "outputs": [
    {
     "data": {
      "text/plain": [
       "Text(0.5, 1.0, 'Distribution of Final Sale Price')"
      ]
     },
     "execution_count": 32,
     "metadata": {},
     "output_type": "execute_result"
    },
    {
     "data": {
      "image/png": "[encoded data removed]",
      "text/plain": [
       "<Figure size 432x288 with 1 Axes>"
      ]
     },
     "metadata": {
      "needs_background": "light"
     },
     "output_type": "display_data"
    }
   ],
   "source": [
    "FSLPRdensity = cleaned_data['FSLPR'].plot(kind = 'density')\n",
    "FSLPRdensity.set_xlabel('Sale Price (in Millions)')\n",
    "FSLPRdensity.set_xlim(0)\n",
    "FSLPRdensity.set_title('Distribution of Final Sale Price')"
   ]
  },
  {
   "cell_type": "code",
   "execution_count": 33,
   "id": "b9353513",
   "metadata": {},
   "outputs": [
    {
     "data": {
      "image/png": "[encoded data removed]",
      "text/plain": [
       "<Figure size 432x288 with 1 Axes>"
      ]
     },
     "metadata": {
      "needs_background": "light"
     },
     "output_type": "display_data"
    }
   ],
   "source": [
    "FSLPRbox = cleaned_data['FSLPR'].plot(kind = 'box') #lot of high outliers\n",
    "FSLPRbox.set_ylabel('Sale Price (in Millions)')\n",
    "FSLPRbox.xaxis.set_visible(False)"
   ]
  },
  {
   "cell_type": "code",
   "execution_count": 34,
   "id": "cfe6e75d",
   "metadata": {},
   "outputs": [
    {
     "data": {
      "text/plain": [
       "Text(0, 0.5, 'Sale Price')"
      ]
     },
     "execution_count": 34,
     "metadata": {},
     "output_type": "execute_result"
    },
    {
     "data": {
      "image/png": "[encoded data removed]",
      "text/plain": [
       "<Figure size 432x288 with 1 Axes>"
      ]
     },
     "metadata": {
      "needs_background": "light"
     },
     "output_type": "display_data"
    }
   ],
   "source": [
    "#Examining relationship of important predictors with final sale price\n",
    "\n",
    "plt.scatter(cleaned_data['FSQFS'], cleaned_data['FSLPR']) #A lot of square footage recorded as zero in the data set. Likely an error in data entry that shouldve been an NA\n",
    "plt.xlabel('Square Feet')\n",
    "plt.ylabel('Sale Price')"
   ]
  },
  {
   "cell_type": "code",
   "execution_count": 35,
   "id": "3d1792e5",
   "metadata": {},
   "outputs": [
    {
     "data": {
      "image/png": "[encoded data removed]",
      "text/plain": [
       "<Figure size 432x288 with 1 Axes>"
      ]
     },
     "metadata": {
      "needs_background": "light"
     },
     "output_type": "display_data"
    }
   ],
   "source": [
    "box = cleaned_data['FSQFS'].plot(kind = 'box')\n",
    "box.set_ylabel('Square Feet')\n",
    "box.set_title('Distribution of Square Feet of Houses')\n",
    "box.xaxis.set_visible(False)"
   ]
  },
  {
   "cell_type": "code",
   "execution_count": 36,
   "id": "1ae1f4bb",
   "metadata": {},
   "outputs": [
    {
     "name": "stdout",
     "output_type": "stream",
     "text": [
      "number of zeros for square feet: 0\n"
     ]
    },
    {
     "data": {
      "image/png": "[encoded data removed]",
      "text/plain": [
       "<Figure size 432x288 with 1 Axes>"
      ]
     },
     "metadata": {
      "needs_background": "light"
     },
     "output_type": "display_data"
    }
   ],
   "source": [
    " #Lot of zeros in the data set for square feet\n",
    "density = cleaned_data['FSQFS'].plot(kind = 'density')\n",
    "density.set_xlabel('Square Feet')\n",
    "density.set_xlim(0)\n",
    "\n",
    "print('number of zeros for square feet:', len(cleaned_data.FSQFS) - np.count_nonzero(cleaned_data.FSQFS))"
   ]
  },
  {
   "cell_type": "code",
   "execution_count": 37,
   "id": "1e910c9d",
   "metadata": {},
   "outputs": [
    {
     "ename": "ValueError",
     "evalue": "shape mismatch: objects cannot be broadcast to a single shape",
     "output_type": "error",
     "traceback": [
      "\u001b[1;31m---------------------------------------------------------------------------\u001b[0m",
      "\u001b[1;31mValueError\u001b[0m                                Traceback (most recent call last)",
      "\u001b[1;32m~\\AppData\\Local\\Temp/ipykernel_1824/1665502023.py\u001b[0m in \u001b[0;36m<module>\u001b[1;34m\u001b[0m\n\u001b[0;32m      1\u001b[0m \u001b[0mcon\u001b[0m \u001b[1;33m=\u001b[0m \u001b[0mcleaned_data\u001b[0m\u001b[1;33m[\u001b[0m\u001b[1;34m'CON'\u001b[0m\u001b[1;33m]\u001b[0m\u001b[1;33m.\u001b[0m\u001b[0mvalue_counts\u001b[0m\u001b[1;33m(\u001b[0m\u001b[1;33m)\u001b[0m\u001b[1;33m[\u001b[0m\u001b[1;33m:\u001b[0m\u001b[1;33m-\u001b[0m\u001b[1;36m1\u001b[0m\u001b[1;33m]\u001b[0m\u001b[1;33m\u001b[0m\u001b[1;33m\u001b[0m\u001b[0m\n\u001b[0;32m      2\u001b[0m \u001b[0mlevels\u001b[0m \u001b[1;33m=\u001b[0m \u001b[1;33m[\u001b[0m\u001b[1;34m'Non-Condominium'\u001b[0m\u001b[1;33m,\u001b[0m \u001b[1;34m'Condominium'\u001b[0m\u001b[1;33m]\u001b[0m\u001b[1;33m\u001b[0m\u001b[1;33m\u001b[0m\u001b[0m\n\u001b[1;32m----> 3\u001b[1;33m \u001b[0mplt\u001b[0m\u001b[1;33m.\u001b[0m\u001b[0mbar\u001b[0m\u001b[1;33m(\u001b[0m\u001b[0mlevels\u001b[0m\u001b[1;33m,\u001b[0m \u001b[0mcon\u001b[0m\u001b[1;33m)\u001b[0m\u001b[1;33m\u001b[0m\u001b[1;33m\u001b[0m\u001b[0m\n\u001b[0m\u001b[0;32m      4\u001b[0m \u001b[0mplt\u001b[0m\u001b[1;33m.\u001b[0m\u001b[0mylabel\u001b[0m\u001b[1;33m(\u001b[0m\u001b[1;34m'Count'\u001b[0m\u001b[1;33m)\u001b[0m\u001b[1;33m\u001b[0m\u001b[1;33m\u001b[0m\u001b[0m\n\u001b[0;32m      5\u001b[0m \u001b[0mplt\u001b[0m\u001b[1;33m.\u001b[0m\u001b[0mtitle\u001b[0m\u001b[1;33m(\u001b[0m\u001b[1;34m'Type of Housing'\u001b[0m\u001b[1;33m)\u001b[0m\u001b[1;33m\u001b[0m\u001b[1;33m\u001b[0m\u001b[0m\n",
      "\u001b[1;32mC:\\JupyterLab\\resources\\jlab_server\\lib\\site-packages\\matplotlib\\pyplot.py\u001b[0m in \u001b[0;36mbar\u001b[1;34m(x, height, width, bottom, align, data, **kwargs)\u001b[0m\n\u001b[0;32m   2649\u001b[0m         \u001b[0mx\u001b[0m\u001b[1;33m,\u001b[0m \u001b[0mheight\u001b[0m\u001b[1;33m,\u001b[0m \u001b[0mwidth\u001b[0m\u001b[1;33m=\u001b[0m\u001b[1;36m0.8\u001b[0m\u001b[1;33m,\u001b[0m \u001b[0mbottom\u001b[0m\u001b[1;33m=\u001b[0m\u001b[1;32mNone\u001b[0m\u001b[1;33m,\u001b[0m \u001b[1;33m*\u001b[0m\u001b[1;33m,\u001b[0m \u001b[0malign\u001b[0m\u001b[1;33m=\u001b[0m\u001b[1;34m'center'\u001b[0m\u001b[1;33m,\u001b[0m\u001b[1;33m\u001b[0m\u001b[1;33m\u001b[0m\u001b[0m\n\u001b[0;32m   2650\u001b[0m         data=None, **kwargs):\n\u001b[1;32m-> 2651\u001b[1;33m     return gca().bar(\n\u001b[0m\u001b[0;32m   2652\u001b[0m         \u001b[0mx\u001b[0m\u001b[1;33m,\u001b[0m \u001b[0mheight\u001b[0m\u001b[1;33m,\u001b[0m \u001b[0mwidth\u001b[0m\u001b[1;33m=\u001b[0m\u001b[0mwidth\u001b[0m\u001b[1;33m,\u001b[0m \u001b[0mbottom\u001b[0m\u001b[1;33m=\u001b[0m\u001b[0mbottom\u001b[0m\u001b[1;33m,\u001b[0m \u001b[0malign\u001b[0m\u001b[1;33m=\u001b[0m\u001b[0malign\u001b[0m\u001b[1;33m,\u001b[0m\u001b[1;33m\u001b[0m\u001b[1;33m\u001b[0m\u001b[0m\n\u001b[0;32m   2653\u001b[0m         **({\"data\": data} if data is not None else {}), **kwargs)\n",
      "\u001b[1;32mC:\\JupyterLab\\resources\\jlab_server\\lib\\site-packages\\matplotlib\\__init__.py\u001b[0m in \u001b[0;36minner\u001b[1;34m(ax, data, *args, **kwargs)\u001b[0m\n\u001b[0;32m   1359\u001b[0m     \u001b[1;32mdef\u001b[0m \u001b[0minner\u001b[0m\u001b[1;33m(\u001b[0m\u001b[0max\u001b[0m\u001b[1;33m,\u001b[0m \u001b[1;33m*\u001b[0m\u001b[0margs\u001b[0m\u001b[1;33m,\u001b[0m \u001b[0mdata\u001b[0m\u001b[1;33m=\u001b[0m\u001b[1;32mNone\u001b[0m\u001b[1;33m,\u001b[0m \u001b[1;33m**\u001b[0m\u001b[0mkwargs\u001b[0m\u001b[1;33m)\u001b[0m\u001b[1;33m:\u001b[0m\u001b[1;33m\u001b[0m\u001b[1;33m\u001b[0m\u001b[0m\n\u001b[0;32m   1360\u001b[0m         \u001b[1;32mif\u001b[0m \u001b[0mdata\u001b[0m \u001b[1;32mis\u001b[0m \u001b[1;32mNone\u001b[0m\u001b[1;33m:\u001b[0m\u001b[1;33m\u001b[0m\u001b[1;33m\u001b[0m\u001b[0m\n\u001b[1;32m-> 1361\u001b[1;33m             \u001b[1;32mreturn\u001b[0m \u001b[0mfunc\u001b[0m\u001b[1;33m(\u001b[0m\u001b[0max\u001b[0m\u001b[1;33m,\u001b[0m \u001b[1;33m*\u001b[0m\u001b[0mmap\u001b[0m\u001b[1;33m(\u001b[0m\u001b[0msanitize_sequence\u001b[0m\u001b[1;33m,\u001b[0m \u001b[0margs\u001b[0m\u001b[1;33m)\u001b[0m\u001b[1;33m,\u001b[0m \u001b[1;33m**\u001b[0m\u001b[0mkwargs\u001b[0m\u001b[1;33m)\u001b[0m\u001b[1;33m\u001b[0m\u001b[1;33m\u001b[0m\u001b[0m\n\u001b[0m\u001b[0;32m   1362\u001b[0m \u001b[1;33m\u001b[0m\u001b[0m\n\u001b[0;32m   1363\u001b[0m         \u001b[0mbound\u001b[0m \u001b[1;33m=\u001b[0m \u001b[0mnew_sig\u001b[0m\u001b[1;33m.\u001b[0m\u001b[0mbind\u001b[0m\u001b[1;33m(\u001b[0m\u001b[0max\u001b[0m\u001b[1;33m,\u001b[0m \u001b[1;33m*\u001b[0m\u001b[0margs\u001b[0m\u001b[1;33m,\u001b[0m \u001b[1;33m**\u001b[0m\u001b[0mkwargs\u001b[0m\u001b[1;33m)\u001b[0m\u001b[1;33m\u001b[0m\u001b[1;33m\u001b[0m\u001b[0m\n",
      "\u001b[1;32mC:\\JupyterLab\\resources\\jlab_server\\lib\\site-packages\\matplotlib\\axes\\_axes.py\u001b[0m in \u001b[0;36mbar\u001b[1;34m(self, x, height, width, bottom, align, **kwargs)\u001b[0m\n\u001b[0;32m   2302\u001b[0m                 \u001b[0myerr\u001b[0m \u001b[1;33m=\u001b[0m \u001b[0mself\u001b[0m\u001b[1;33m.\u001b[0m\u001b[0m_convert_dx\u001b[0m\u001b[1;33m(\u001b[0m\u001b[0myerr\u001b[0m\u001b[1;33m,\u001b[0m \u001b[0my0\u001b[0m\u001b[1;33m,\u001b[0m \u001b[0my\u001b[0m\u001b[1;33m,\u001b[0m \u001b[0mself\u001b[0m\u001b[1;33m.\u001b[0m\u001b[0mconvert_yunits\u001b[0m\u001b[1;33m)\u001b[0m\u001b[1;33m\u001b[0m\u001b[1;33m\u001b[0m\u001b[0m\n\u001b[0;32m   2303\u001b[0m \u001b[1;33m\u001b[0m\u001b[0m\n\u001b[1;32m-> 2304\u001b[1;33m         x, height, width, y, linewidth, hatch = np.broadcast_arrays(\n\u001b[0m\u001b[0;32m   2305\u001b[0m             \u001b[1;31m# Make args iterable too.\u001b[0m\u001b[1;33m\u001b[0m\u001b[1;33m\u001b[0m\u001b[1;33m\u001b[0m\u001b[0m\n\u001b[0;32m   2306\u001b[0m             np.atleast_1d(x), height, width, y, linewidth, hatch)\n",
      "\u001b[1;32m<__array_function__ internals>\u001b[0m in \u001b[0;36mbroadcast_arrays\u001b[1;34m(*args, **kwargs)\u001b[0m\n",
      "\u001b[1;32mC:\\JupyterLab\\resources\\jlab_server\\lib\\site-packages\\numpy\\lib\\stride_tricks.py\u001b[0m in \u001b[0;36mbroadcast_arrays\u001b[1;34m(subok, *args)\u001b[0m\n\u001b[0;32m    536\u001b[0m     \u001b[0margs\u001b[0m \u001b[1;33m=\u001b[0m \u001b[1;33m[\u001b[0m\u001b[0mnp\u001b[0m\u001b[1;33m.\u001b[0m\u001b[0marray\u001b[0m\u001b[1;33m(\u001b[0m\u001b[0m_m\u001b[0m\u001b[1;33m,\u001b[0m \u001b[0mcopy\u001b[0m\u001b[1;33m=\u001b[0m\u001b[1;32mFalse\u001b[0m\u001b[1;33m,\u001b[0m \u001b[0msubok\u001b[0m\u001b[1;33m=\u001b[0m\u001b[0msubok\u001b[0m\u001b[1;33m)\u001b[0m \u001b[1;32mfor\u001b[0m \u001b[0m_m\u001b[0m \u001b[1;32min\u001b[0m \u001b[0margs\u001b[0m\u001b[1;33m]\u001b[0m\u001b[1;33m\u001b[0m\u001b[1;33m\u001b[0m\u001b[0m\n\u001b[0;32m    537\u001b[0m \u001b[1;33m\u001b[0m\u001b[0m\n\u001b[1;32m--> 538\u001b[1;33m     \u001b[0mshape\u001b[0m \u001b[1;33m=\u001b[0m \u001b[0m_broadcast_shape\u001b[0m\u001b[1;33m(\u001b[0m\u001b[1;33m*\u001b[0m\u001b[0margs\u001b[0m\u001b[1;33m)\u001b[0m\u001b[1;33m\u001b[0m\u001b[1;33m\u001b[0m\u001b[0m\n\u001b[0m\u001b[0;32m    539\u001b[0m \u001b[1;33m\u001b[0m\u001b[0m\n\u001b[0;32m    540\u001b[0m     \u001b[1;32mif\u001b[0m \u001b[0mall\u001b[0m\u001b[1;33m(\u001b[0m\u001b[0marray\u001b[0m\u001b[1;33m.\u001b[0m\u001b[0mshape\u001b[0m \u001b[1;33m==\u001b[0m \u001b[0mshape\u001b[0m \u001b[1;32mfor\u001b[0m \u001b[0marray\u001b[0m \u001b[1;32min\u001b[0m \u001b[0margs\u001b[0m\u001b[1;33m)\u001b[0m\u001b[1;33m:\u001b[0m\u001b[1;33m\u001b[0m\u001b[1;33m\u001b[0m\u001b[0m\n",
      "\u001b[1;32mC:\\JupyterLab\\resources\\jlab_server\\lib\\site-packages\\numpy\\lib\\stride_tricks.py\u001b[0m in \u001b[0;36m_broadcast_shape\u001b[1;34m(*args)\u001b[0m\n\u001b[0;32m    418\u001b[0m     \u001b[1;31m# use the old-iterator because np.nditer does not handle size 0 arrays\u001b[0m\u001b[1;33m\u001b[0m\u001b[1;33m\u001b[0m\u001b[1;33m\u001b[0m\u001b[0m\n\u001b[0;32m    419\u001b[0m     \u001b[1;31m# consistently\u001b[0m\u001b[1;33m\u001b[0m\u001b[1;33m\u001b[0m\u001b[1;33m\u001b[0m\u001b[0m\n\u001b[1;32m--> 420\u001b[1;33m     \u001b[0mb\u001b[0m \u001b[1;33m=\u001b[0m \u001b[0mnp\u001b[0m\u001b[1;33m.\u001b[0m\u001b[0mbroadcast\u001b[0m\u001b[1;33m(\u001b[0m\u001b[1;33m*\u001b[0m\u001b[0margs\u001b[0m\u001b[1;33m[\u001b[0m\u001b[1;33m:\u001b[0m\u001b[1;36m32\u001b[0m\u001b[1;33m]\u001b[0m\u001b[1;33m)\u001b[0m\u001b[1;33m\u001b[0m\u001b[1;33m\u001b[0m\u001b[0m\n\u001b[0m\u001b[0;32m    421\u001b[0m     \u001b[1;31m# unfortunately, it cannot handle 32 or more arguments directly\u001b[0m\u001b[1;33m\u001b[0m\u001b[1;33m\u001b[0m\u001b[1;33m\u001b[0m\u001b[0m\n\u001b[0;32m    422\u001b[0m     \u001b[1;32mfor\u001b[0m \u001b[0mpos\u001b[0m \u001b[1;32min\u001b[0m \u001b[0mrange\u001b[0m\u001b[1;33m(\u001b[0m\u001b[1;36m32\u001b[0m\u001b[1;33m,\u001b[0m \u001b[0mlen\u001b[0m\u001b[1;33m(\u001b[0m\u001b[0margs\u001b[0m\u001b[1;33m)\u001b[0m\u001b[1;33m,\u001b[0m \u001b[1;36m31\u001b[0m\u001b[1;33m)\u001b[0m\u001b[1;33m:\u001b[0m\u001b[1;33m\u001b[0m\u001b[1;33m\u001b[0m\u001b[0m\n",
      "\u001b[1;31mValueError\u001b[0m: shape mismatch: objects cannot be broadcast to a single shape"
     ]
    },
    {
     "data": {
      "image/png": "[encoded data removed]",
      "text/plain": [
       "<Figure size 432x288 with 1 Axes>"
      ]
     },
     "metadata": {
      "needs_background": "light"
     },
     "output_type": "display_data"
    }
   ],
   "source": [
    "con = cleaned_data['CON'].value_counts()[:-1]\n",
    "levels = ['Non-Condominium', 'Condominium']\n",
    "plt.bar(levels, con)\n",
    "plt.ylabel('Count')\n",
    "plt.title('Type of Housing')"
   ]
  },
  {
   "cell_type": "code",
   "execution_count": 38,
   "id": "7ec646c2",
   "metadata": {},
   "outputs": [
    {
     "ename": "ValueError",
     "evalue": "shape mismatch: objects cannot be broadcast to a single shape",
     "output_type": "error",
     "traceback": [
      "\u001b[1;31m---------------------------------------------------------------------------\u001b[0m",
      "\u001b[1;31mValueError\u001b[0m                                Traceback (most recent call last)",
      "\u001b[1;32m~\\AppData\\Local\\Temp/ipykernel_1824/775614093.py\u001b[0m in \u001b[0;36m<module>\u001b[1;34m\u001b[0m\n\u001b[0;32m      1\u001b[0m \u001b[0mbase\u001b[0m \u001b[1;33m=\u001b[0m \u001b[0mcleaned_data\u001b[0m\u001b[1;33m[\u001b[0m\u001b[1;34m'BASE'\u001b[0m\u001b[1;33m]\u001b[0m\u001b[1;33m.\u001b[0m\u001b[0mvalue_counts\u001b[0m\u001b[1;33m(\u001b[0m\u001b[1;33m)\u001b[0m\u001b[1;33m\u001b[0m\u001b[1;33m\u001b[0m\u001b[0m\n\u001b[0;32m      2\u001b[0m \u001b[0mlevels\u001b[0m \u001b[1;33m=\u001b[0m \u001b[1;33m[\u001b[0m\u001b[1;34m'Slab'\u001b[0m\u001b[1;33m,\u001b[0m \u001b[1;34m'Basement'\u001b[0m\u001b[1;33m,\u001b[0m \u001b[1;34m'Crawl Space'\u001b[0m\u001b[1;33m,\u001b[0m \u001b[1;34m'Other'\u001b[0m\u001b[1;33m,\u001b[0m \u001b[1;34m'NA'\u001b[0m\u001b[1;33m]\u001b[0m\u001b[1;33m\u001b[0m\u001b[1;33m\u001b[0m\u001b[0m\n\u001b[1;32m----> 3\u001b[1;33m \u001b[0mplt\u001b[0m\u001b[1;33m.\u001b[0m\u001b[0mbar\u001b[0m\u001b[1;33m(\u001b[0m\u001b[0mlevels\u001b[0m\u001b[1;33m,\u001b[0m \u001b[0mbase\u001b[0m\u001b[1;33m)\u001b[0m\u001b[1;33m\u001b[0m\u001b[1;33m\u001b[0m\u001b[0m\n\u001b[0m\u001b[0;32m      4\u001b[0m \u001b[0mplt\u001b[0m\u001b[1;33m.\u001b[0m\u001b[0mylabel\u001b[0m\u001b[1;33m(\u001b[0m\u001b[1;34m'Count'\u001b[0m\u001b[1;33m)\u001b[0m\u001b[1;33m\u001b[0m\u001b[1;33m\u001b[0m\u001b[0m\n\u001b[0;32m      5\u001b[0m \u001b[0mplt\u001b[0m\u001b[1;33m.\u001b[0m\u001b[0mtitle\u001b[0m\u001b[1;33m(\u001b[0m\u001b[1;34m'Distribution of Foundation Type'\u001b[0m\u001b[1;33m)\u001b[0m\u001b[1;33m\u001b[0m\u001b[1;33m\u001b[0m\u001b[0m\n",
      "\u001b[1;32mC:\\JupyterLab\\resources\\jlab_server\\lib\\site-packages\\matplotlib\\pyplot.py\u001b[0m in \u001b[0;36mbar\u001b[1;34m(x, height, width, bottom, align, data, **kwargs)\u001b[0m\n\u001b[0;32m   2649\u001b[0m         \u001b[0mx\u001b[0m\u001b[1;33m,\u001b[0m \u001b[0mheight\u001b[0m\u001b[1;33m,\u001b[0m \u001b[0mwidth\u001b[0m\u001b[1;33m=\u001b[0m\u001b[1;36m0.8\u001b[0m\u001b[1;33m,\u001b[0m \u001b[0mbottom\u001b[0m\u001b[1;33m=\u001b[0m\u001b[1;32mNone\u001b[0m\u001b[1;33m,\u001b[0m \u001b[1;33m*\u001b[0m\u001b[1;33m,\u001b[0m \u001b[0malign\u001b[0m\u001b[1;33m=\u001b[0m\u001b[1;34m'center'\u001b[0m\u001b[1;33m,\u001b[0m\u001b[1;33m\u001b[0m\u001b[1;33m\u001b[0m\u001b[0m\n\u001b[0;32m   2650\u001b[0m         data=None, **kwargs):\n\u001b[1;32m-> 2651\u001b[1;33m     return gca().bar(\n\u001b[0m\u001b[0;32m   2652\u001b[0m         \u001b[0mx\u001b[0m\u001b[1;33m,\u001b[0m \u001b[0mheight\u001b[0m\u001b[1;33m,\u001b[0m \u001b[0mwidth\u001b[0m\u001b[1;33m=\u001b[0m\u001b[0mwidth\u001b[0m\u001b[1;33m,\u001b[0m \u001b[0mbottom\u001b[0m\u001b[1;33m=\u001b[0m\u001b[0mbottom\u001b[0m\u001b[1;33m,\u001b[0m \u001b[0malign\u001b[0m\u001b[1;33m=\u001b[0m\u001b[0malign\u001b[0m\u001b[1;33m,\u001b[0m\u001b[1;33m\u001b[0m\u001b[1;33m\u001b[0m\u001b[0m\n\u001b[0;32m   2653\u001b[0m         **({\"data\": data} if data is not None else {}), **kwargs)\n",
      "\u001b[1;32mC:\\JupyterLab\\resources\\jlab_server\\lib\\site-packages\\matplotlib\\__init__.py\u001b[0m in \u001b[0;36minner\u001b[1;34m(ax, data, *args, **kwargs)\u001b[0m\n\u001b[0;32m   1359\u001b[0m     \u001b[1;32mdef\u001b[0m \u001b[0minner\u001b[0m\u001b[1;33m(\u001b[0m\u001b[0max\u001b[0m\u001b[1;33m,\u001b[0m \u001b[1;33m*\u001b[0m\u001b[0margs\u001b[0m\u001b[1;33m,\u001b[0m \u001b[0mdata\u001b[0m\u001b[1;33m=\u001b[0m\u001b[1;32mNone\u001b[0m\u001b[1;33m,\u001b[0m \u001b[1;33m**\u001b[0m\u001b[0mkwargs\u001b[0m\u001b[1;33m)\u001b[0m\u001b[1;33m:\u001b[0m\u001b[1;33m\u001b[0m\u001b[1;33m\u001b[0m\u001b[0m\n\u001b[0;32m   1360\u001b[0m         \u001b[1;32mif\u001b[0m \u001b[0mdata\u001b[0m \u001b[1;32mis\u001b[0m \u001b[1;32mNone\u001b[0m\u001b[1;33m:\u001b[0m\u001b[1;33m\u001b[0m\u001b[1;33m\u001b[0m\u001b[0m\n\u001b[1;32m-> 1361\u001b[1;33m             \u001b[1;32mreturn\u001b[0m \u001b[0mfunc\u001b[0m\u001b[1;33m(\u001b[0m\u001b[0max\u001b[0m\u001b[1;33m,\u001b[0m \u001b[1;33m*\u001b[0m\u001b[0mmap\u001b[0m\u001b[1;33m(\u001b[0m\u001b[0msanitize_sequence\u001b[0m\u001b[1;33m,\u001b[0m \u001b[0margs\u001b[0m\u001b[1;33m)\u001b[0m\u001b[1;33m,\u001b[0m \u001b[1;33m**\u001b[0m\u001b[0mkwargs\u001b[0m\u001b[1;33m)\u001b[0m\u001b[1;33m\u001b[0m\u001b[1;33m\u001b[0m\u001b[0m\n\u001b[0m\u001b[0;32m   1362\u001b[0m \u001b[1;33m\u001b[0m\u001b[0m\n\u001b[0;32m   1363\u001b[0m         \u001b[0mbound\u001b[0m \u001b[1;33m=\u001b[0m \u001b[0mnew_sig\u001b[0m\u001b[1;33m.\u001b[0m\u001b[0mbind\u001b[0m\u001b[1;33m(\u001b[0m\u001b[0max\u001b[0m\u001b[1;33m,\u001b[0m \u001b[1;33m*\u001b[0m\u001b[0margs\u001b[0m\u001b[1;33m,\u001b[0m \u001b[1;33m**\u001b[0m\u001b[0mkwargs\u001b[0m\u001b[1;33m)\u001b[0m\u001b[1;33m\u001b[0m\u001b[1;33m\u001b[0m\u001b[0m\n",
      "\u001b[1;32mC:\\JupyterLab\\resources\\jlab_server\\lib\\site-packages\\matplotlib\\axes\\_axes.py\u001b[0m in \u001b[0;36mbar\u001b[1;34m(self, x, height, width, bottom, align, **kwargs)\u001b[0m\n\u001b[0;32m   2302\u001b[0m                 \u001b[0myerr\u001b[0m \u001b[1;33m=\u001b[0m \u001b[0mself\u001b[0m\u001b[1;33m.\u001b[0m\u001b[0m_convert_dx\u001b[0m\u001b[1;33m(\u001b[0m\u001b[0myerr\u001b[0m\u001b[1;33m,\u001b[0m \u001b[0my0\u001b[0m\u001b[1;33m,\u001b[0m \u001b[0my\u001b[0m\u001b[1;33m,\u001b[0m \u001b[0mself\u001b[0m\u001b[1;33m.\u001b[0m\u001b[0mconvert_yunits\u001b[0m\u001b[1;33m)\u001b[0m\u001b[1;33m\u001b[0m\u001b[1;33m\u001b[0m\u001b[0m\n\u001b[0;32m   2303\u001b[0m \u001b[1;33m\u001b[0m\u001b[0m\n\u001b[1;32m-> 2304\u001b[1;33m         x, height, width, y, linewidth, hatch = np.broadcast_arrays(\n\u001b[0m\u001b[0;32m   2305\u001b[0m             \u001b[1;31m# Make args iterable too.\u001b[0m\u001b[1;33m\u001b[0m\u001b[1;33m\u001b[0m\u001b[1;33m\u001b[0m\u001b[0m\n\u001b[0;32m   2306\u001b[0m             np.atleast_1d(x), height, width, y, linewidth, hatch)\n",
      "\u001b[1;32m<__array_function__ internals>\u001b[0m in \u001b[0;36mbroadcast_arrays\u001b[1;34m(*args, **kwargs)\u001b[0m\n",
      "\u001b[1;32mC:\\JupyterLab\\resources\\jlab_server\\lib\\site-packages\\numpy\\lib\\stride_tricks.py\u001b[0m in \u001b[0;36mbroadcast_arrays\u001b[1;34m(subok, *args)\u001b[0m\n\u001b[0;32m    536\u001b[0m     \u001b[0margs\u001b[0m \u001b[1;33m=\u001b[0m \u001b[1;33m[\u001b[0m\u001b[0mnp\u001b[0m\u001b[1;33m.\u001b[0m\u001b[0marray\u001b[0m\u001b[1;33m(\u001b[0m\u001b[0m_m\u001b[0m\u001b[1;33m,\u001b[0m \u001b[0mcopy\u001b[0m\u001b[1;33m=\u001b[0m\u001b[1;32mFalse\u001b[0m\u001b[1;33m,\u001b[0m \u001b[0msubok\u001b[0m\u001b[1;33m=\u001b[0m\u001b[0msubok\u001b[0m\u001b[1;33m)\u001b[0m \u001b[1;32mfor\u001b[0m \u001b[0m_m\u001b[0m \u001b[1;32min\u001b[0m \u001b[0margs\u001b[0m\u001b[1;33m]\u001b[0m\u001b[1;33m\u001b[0m\u001b[1;33m\u001b[0m\u001b[0m\n\u001b[0;32m    537\u001b[0m \u001b[1;33m\u001b[0m\u001b[0m\n\u001b[1;32m--> 538\u001b[1;33m     \u001b[0mshape\u001b[0m \u001b[1;33m=\u001b[0m \u001b[0m_broadcast_shape\u001b[0m\u001b[1;33m(\u001b[0m\u001b[1;33m*\u001b[0m\u001b[0margs\u001b[0m\u001b[1;33m)\u001b[0m\u001b[1;33m\u001b[0m\u001b[1;33m\u001b[0m\u001b[0m\n\u001b[0m\u001b[0;32m    539\u001b[0m \u001b[1;33m\u001b[0m\u001b[0m\n\u001b[0;32m    540\u001b[0m     \u001b[1;32mif\u001b[0m \u001b[0mall\u001b[0m\u001b[1;33m(\u001b[0m\u001b[0marray\u001b[0m\u001b[1;33m.\u001b[0m\u001b[0mshape\u001b[0m \u001b[1;33m==\u001b[0m \u001b[0mshape\u001b[0m \u001b[1;32mfor\u001b[0m \u001b[0marray\u001b[0m \u001b[1;32min\u001b[0m \u001b[0margs\u001b[0m\u001b[1;33m)\u001b[0m\u001b[1;33m:\u001b[0m\u001b[1;33m\u001b[0m\u001b[1;33m\u001b[0m\u001b[0m\n",
      "\u001b[1;32mC:\\JupyterLab\\resources\\jlab_server\\lib\\site-packages\\numpy\\lib\\stride_tricks.py\u001b[0m in \u001b[0;36m_broadcast_shape\u001b[1;34m(*args)\u001b[0m\n\u001b[0;32m    418\u001b[0m     \u001b[1;31m# use the old-iterator because np.nditer does not handle size 0 arrays\u001b[0m\u001b[1;33m\u001b[0m\u001b[1;33m\u001b[0m\u001b[1;33m\u001b[0m\u001b[0m\n\u001b[0;32m    419\u001b[0m     \u001b[1;31m# consistently\u001b[0m\u001b[1;33m\u001b[0m\u001b[1;33m\u001b[0m\u001b[1;33m\u001b[0m\u001b[0m\n\u001b[1;32m--> 420\u001b[1;33m     \u001b[0mb\u001b[0m \u001b[1;33m=\u001b[0m \u001b[0mnp\u001b[0m\u001b[1;33m.\u001b[0m\u001b[0mbroadcast\u001b[0m\u001b[1;33m(\u001b[0m\u001b[1;33m*\u001b[0m\u001b[0margs\u001b[0m\u001b[1;33m[\u001b[0m\u001b[1;33m:\u001b[0m\u001b[1;36m32\u001b[0m\u001b[1;33m]\u001b[0m\u001b[1;33m)\u001b[0m\u001b[1;33m\u001b[0m\u001b[1;33m\u001b[0m\u001b[0m\n\u001b[0m\u001b[0;32m    421\u001b[0m     \u001b[1;31m# unfortunately, it cannot handle 32 or more arguments directly\u001b[0m\u001b[1;33m\u001b[0m\u001b[1;33m\u001b[0m\u001b[1;33m\u001b[0m\u001b[0m\n\u001b[0;32m    422\u001b[0m     \u001b[1;32mfor\u001b[0m \u001b[0mpos\u001b[0m \u001b[1;32min\u001b[0m \u001b[0mrange\u001b[0m\u001b[1;33m(\u001b[0m\u001b[1;36m32\u001b[0m\u001b[1;33m,\u001b[0m \u001b[0mlen\u001b[0m\u001b[1;33m(\u001b[0m\u001b[0margs\u001b[0m\u001b[1;33m)\u001b[0m\u001b[1;33m,\u001b[0m \u001b[1;36m31\u001b[0m\u001b[1;33m)\u001b[0m\u001b[1;33m:\u001b[0m\u001b[1;33m\u001b[0m\u001b[1;33m\u001b[0m\u001b[0m\n",
      "\u001b[1;31mValueError\u001b[0m: shape mismatch: objects cannot be broadcast to a single shape"
     ]
    },
    {
     "data": {
      "image/png": "[encoded data removed]",
      "text/plain": [
       "<Figure size 432x288 with 1 Axes>"
      ]
     },
     "metadata": {
      "needs_background": "light"
     },
     "output_type": "display_data"
    }
   ],
   "source": [
    "base = cleaned_data['BASE'].value_counts()\n",
    "levels = ['Slab', 'Basement', 'Crawl Space', 'Other', 'NA']\n",
    "plt.bar(levels, base)\n",
    "plt.ylabel('Count')\n",
    "plt.title('Distribution of Foundation Type')"
   ]
  },
  {
   "cell_type": "code",
   "execution_count": null,
   "id": "a8c6a018",
   "metadata": {},
   "outputs": [],
   "source": []
  },
  {
   "cell_type": "markdown",
   "id": "1f842be2",
   "metadata": {},
   "source": [
    "Model Implementation"
   ]
  },
  {
   "cell_type": "code",
   "execution_count": 31,
   "id": "63afb858-429f-453a-8aad-750b5c5a31f9",
   "metadata": {},
   "outputs": [
    {
     "data": {
      "text/plain": [
       "LinearRegression()"
      ]
     },
     "execution_count": 31,
     "metadata": {},
     "output_type": "execute_result"
    }
   ],
   "source": [
    "## Simple linear regression as baseline \n",
    "reg = LinearRegression()\n",
    "reg.fit(xTrain, yTrain,\n",
    "        sample_weight = training_weights)"
   ]
  },
  {
   "cell_type": "code",
   "execution_count": 32,
   "id": "adc27001-c237-42e1-b96d-07c7eff315fe",
   "metadata": {},
   "outputs": [
    {
     "name": "stdout",
     "output_type": "stream",
     "text": [
      "Coefficient of determination on test set: 0.47\n",
      "MSE: 22775798782.922092\n"
     ]
    }
   ],
   "source": [
    "## Asses linear regression model\n",
    "yHatReg = reg.predict(xTest)\n",
    "score_reg = reg.score(xTest, yTest,\n",
    "                      sample_weight = testing_weights)\n",
    "print('Coefficient of determination on test set:', np.round(score_reg,2))\n",
    "print('MSE:', mean_squared_error(yTest, yHatReg, sample_weight= testing_weights))"
   ]
  },
  {
   "cell_type": "code",
   "execution_count": 33,
   "id": "fcbeb095",
   "metadata": {},
   "outputs": [
    {
     "data": {
      "text/plain": [
       "RandomForestRegressor(n_estimators=500)"
      ]
     },
     "execution_count": 33,
     "metadata": {},
     "output_type": "execute_result"
    }
   ],
   "source": [
    "#Random Forest\n",
    "rForest = RandomForestRegressor(n_estimators=500)\n",
    "\n",
    "# hyper-parameter optimization was run with the following grid search layout\n",
    "# I have commented it out and changed the main regressor to reflect the best parameters to save time\n",
    "\n",
    "# params = {\n",
    "#        'n_estimators': [100, 250, 500, 1000],\n",
    "# }\n",
    "\n",
    "# gridForest = GridSearchCV(estimator = rForest, param_grid = params, n_jobs = -1)\n",
    "# gridForest.fit(xTrain, yTrain.values.ravel(), sample_weight = training_weights)\n",
    "# print('best parameters:', gridForest.best_params_)\n",
    "\n",
    "rForest.fit(xTrain, yTrain.values.ravel(), sample_weight = training_weights)"
   ]
  },
  {
   "cell_type": "code",
   "execution_count": 34,
   "id": "fb6c41c7",
   "metadata": {},
   "outputs": [
    {
     "name": "stdout",
     "output_type": "stream",
     "text": [
      "Coefficient of determination on test set: 0.79\n",
      "MSE: 9186289282.67023\n"
     ]
    }
   ],
   "source": [
    "#evaluate model in another cell so don't need to refit model every time\n",
    "yHatForest = rForest.predict(xTest)\n",
    "scoreForest = rForest.score(xTest, yTest, sample_weight = testing_weights)\n",
    "print('Coefficient of determination on test set:', np.round(scoreForest,2)) \n",
    "print('MSE:', mean_squared_error(yTest, yHatForest, sample_weight = testing_weights))\n",
    "#PlotScatter(yHatForest)"
   ]
  },
  {
   "cell_type": "code",
   "execution_count": 35,
   "id": "e3f0014f",
   "metadata": {},
   "outputs": [
    {
     "data": {
      "text/plain": [
       "DecisionTreeRegressor(criterion='friedman_mse', max_depth=10,\n",
       "                      min_samples_split=10, random_state=1)"
      ]
     },
     "execution_count": 35,
     "metadata": {},
     "output_type": "execute_result"
    }
   ],
   "source": [
    "#train decision tree\n",
    "tree = DecisionTreeRegressor(criterion = 'friedman_mse',\n",
    "                            max_depth = 10,\n",
    "                            min_samples_split = 10,\n",
    "                            random_state = 1)\n",
    "# params = {\n",
    "#        'criterion': ['squared_error', 'friedman_mse'],\n",
    "#        'splitter': ['best', 'random'],\n",
    "#        'max_depth': [5, 10, 15, None],\n",
    "#        'min_samples_split': [2, 5, 10],\n",
    "#        'max_features': ['auto', 'sqrt', 'log2'],\n",
    "#        'random_state': [1]\n",
    "\n",
    "# }\n",
    "\n",
    "# gridTree = GridSearchCV(estimator = tree, param_grid = params, n_jobs = -1)\n",
    "# gridTree.fit(xTrain, yTrain.values.ravel(), sample_weight = training_weights)\n",
    "# print('best parameters:', gridTree.best_params_)\n",
    "# print('best score', gridTree.best_score_)\n",
    "\n",
    "tree.fit(xTrain, yTrain, sample_weight = training_weights)"
   ]
  },
  {
   "cell_type": "code",
   "execution_count": 36,
   "id": "d5c24d9e",
   "metadata": {},
   "outputs": [
    {
     "name": "stdout",
     "output_type": "stream",
     "text": [
      "coefficient of determination on test set: 0.66\n",
      "MSE: 14788106629.111477\n"
     ]
    }
   ],
   "source": [
    "#assess tree\n",
    "yHatTree = tree.predict(xTest)\n",
    "scoreTree = tree.score(xTest, yTest, sample_weight = testing_weights)\n",
    "print('coefficient of determination on test set:', np.round(scoreTree,2))\n",
    "print('MSE:', mean_squared_error(yTest, yHatTree, sample_weight = testing_weights))\n",
    "#PlotScatter(yHatTree)"
   ]
  },
  {
   "cell_type": "markdown",
   "id": "f8a95ecf-a85f-43a5-8cb2-c3d4d816045e",
   "metadata": {},
   "source": [
    "Gradient Boosting Model"
   ]
  },
  {
   "cell_type": "code",
   "execution_count": 37,
   "id": "1356e4a6-5208-40c0-bf6c-6cf0d49cd8a7",
   "metadata": {},
   "outputs": [
    {
     "data": {
      "text/plain": [
       "GradientBoostingRegressor(max_depth=5, n_estimators=500)"
      ]
     },
     "execution_count": 37,
     "metadata": {},
     "output_type": "execute_result"
    }
   ],
   "source": [
    "#Gradient boosting \n",
    "GBR = GradientBoostingRegressor(n_estimators = 500, max_depth = 5)\n",
    "\n",
    "# hyper-parameter optimization was run with the following grid search layout\n",
    "# I have commented it out and changed the main regressor to reflect the best parameters to save time\n",
    "\n",
    "# params = {\n",
    "#        'learning_rate': [0.01, 0.05, 0.1, 0.2], \n",
    "#        'n_estimators': [100, 250, 500, 1000],\n",
    "#        'max_depth': [1, 2, 3, 4, 5, 10]     \n",
    "# }\n",
    "\n",
    "# gridGBR = GridSearchCV(estimator = GBR, param_grid = params, n_jobs = -1)\n",
    "# gridGBR.fit(xTrain, yTrain.values.ravel(), sample_weight = training_weights)\n",
    "# print('best parameters:', gridGBR.best_params_)\n",
    "\n",
    "GBR.fit(xTrain, yTrain.values.ravel(), sample_weight = training_weights)\n"
   ]
  },
  {
   "cell_type": "code",
   "execution_count": 38,
   "id": "496815ab-16cc-47c3-94ea-a651b9ccb6f6",
   "metadata": {},
   "outputs": [
    {
     "name": "stdout",
     "output_type": "stream",
     "text": [
      "coefficient of determination on test set: 0.78\n",
      "MSE: 9300942419.73888\n"
     ]
    }
   ],
   "source": [
    "#assess gradient boosting model\n",
    "yHatGBR = GBR.predict(xTest)\n",
    "scoreGBR = GBR.score(xTest, yTest, sample_weight = testing_weights)\n",
    "print('coefficient of determination on test set:', np.round(scoreGBR, 2))\n",
    "print('MSE:', mean_squared_error(yTest, yHatGBR, sample_weight = testing_weights))\n",
    "#PlotScatter(yHatGBR)"
   ]
  },
  {
   "cell_type": "code",
   "execution_count": 47,
   "id": "21e79793-a46c-48dd-8379-70a8b8b03c4a",
   "metadata": {},
   "outputs": [
    {
     "data": {
      "text/plain": [
       "StackingRegressor(estimators=[('rf', RandomForestRegressor(n_estimators=500)),\n",
       "                              ('dc',\n",
       "                               DecisionTreeRegressor(criterion='friedman_mse',\n",
       "                                                     max_depth=10,\n",
       "                                                     min_samples_split=10,\n",
       "                                                     random_state=1)),\n",
       "                              ('gb',\n",
       "                               GradientBoostingRegressor(max_depth=5,\n",
       "                                                         n_estimators=500))],\n",
       "                  final_estimator=RandomForestRegressor(random_state=1))"
      ]
     },
     "execution_count": 47,
     "metadata": {},
     "output_type": "execute_result"
    }
   ],
   "source": [
    "## Training a stacking estimator \n",
    "estimators = [('rf', rForest),\n",
    "              ('dc', tree),\n",
    "              ('gb', GBR)]\n",
    "\n",
    "stack_reg = StackingRegressor(estimators=estimators, \n",
    "                             final_estimator=RandomForestRegressor(n_estimators=100,\n",
    "                                           random_state=1))\n",
    "stack_reg.fit(xTrain, yTrain.values.ravel(),\n",
    "        sample_weight = training_weights)\n"
   ]
  },
  {
   "cell_type": "code",
   "execution_count": 48,
   "id": "e10ddae1-04de-4752-a9da-7965bf466ffc",
   "metadata": {},
   "outputs": [
    {
     "name": "stdout",
     "output_type": "stream",
     "text": [
      "coefficient of determination on test set: 0.97\n",
      "MSE: 9315654.424497878\n"
     ]
    }
   ],
   "source": [
    "## Asses the stacking estimator \n",
    "yHatStack = stack_reg.predict(xTest)\n",
    "score_stack = stack_reg.score(xTest, yTest, sample_weight = testing_weights)\n",
    "print('coefficient of determination on test set:', np.round(score_stack,2))\n",
    "print('MSE:', mean_squared_error(yTest, yHatStack, sample_weight = testing_weights))"
   ]
  },
  {
   "cell_type": "code",
   "execution_count": 39,
   "id": "efcfe116-0ecb-44fd-a299-fdfa5a4c3ee7",
   "metadata": {},
   "outputs": [
    {
     "data": {
      "text/plain": [
       "BaggingRegressor(base_estimator=DecisionTreeRegressor(criterion='friedman_mse',\n",
       "                                                      max_depth=10,\n",
       "                                                      min_samples_split=10,\n",
       "                                                      random_state=1),\n",
       "                 n_estimators=500, n_jobs=-1, random_state=1)"
      ]
     },
     "execution_count": 39,
     "metadata": {},
     "output_type": "execute_result"
    }
   ],
   "source": [
    "bag = BaggingRegressor(base_estimator = tree, n_estimators = 500, n_jobs = -1, random_state = 1)\n",
    "\n",
    "# params = {'base_estimator': [tree, None], \n",
    "#         'n_estimators': [10, 100, 250, 500]}\n",
    "\n",
    "# gridBag = GridSearchCV(estimator = bag, \n",
    "#                     param_grid = params,\n",
    "#                     n_jobs = -1)\n",
    "\n",
    "# gridBag.fit(xTrain, yTrain.values.ravel(), sample_weight = training_weights)\n",
    "# print('best params:' , gridBag.best_params_)\n",
    "# print('best_score:', gridBag.best_score_)\n",
    "\n",
    "bag.fit(xTrain, yTrain.values.ravel(), sample_weight = training_weights)"
   ]
  },
  {
   "cell_type": "code",
   "execution_count": 40,
   "id": "618cf4c2",
   "metadata": {},
   "outputs": [
    {
     "name": "stdout",
     "output_type": "stream",
     "text": [
      "coefficient of determination on test set: 0.75\n",
      "MSE: 10760906022.722229\n"
     ]
    }
   ],
   "source": [
    "yHatBag = bag.predict(xTest)\n",
    "score_bag = bag.score(xTest, yTest, sample_weight = testing_weights)\n",
    "print('coefficient of determination on test set:', np.round(score_bag, 2))\n",
    "print('MSE:', mean_squared_error(yTest, yHatBag, sample_weight = testing_weights))"
   ]
  },
  {
   "cell_type": "code",
   "execution_count": null,
   "id": "8fd1f8ec-fb8e-4612-b8c3-3d8444afce16",
   "metadata": {},
   "outputs": [],
   "source": []
  }
 ],
 "metadata": {
  "interpreter": {
   "hash": "1a7d1808110443b3cdaed7c6de853f824ed46249aa2d1a3ebcec599b392942a3"
  },
  "kernelspec": {
   "display_name": "Python 3 (ipykernel)",
   "language": "python",
   "name": "python3"
  },
  "language_info": {
   "codemirror_mode": {
    "name": "ipython",
    "version": 3
   },
   "file_extension": ".py",
   "mimetype": "text/x-python",
   "name": "python",
   "nbconvert_exporter": "python",
   "pygments_lexer": "ipython3",
   "version": "3.9.6"
  }
 },
 "nbformat": 4,
 "nbformat_minor": 5
}
